{
 "cells": [
  {
   "cell_type": "markdown",
   "metadata": {
    "collapsed": true,
    "deletable": true,
    "editable": true
   },
   "source": [
    "# Image Classification\n",
    "In this project, you'll classify images from the [CIFAR-10 dataset](https://www.cs.toronto.edu/~kriz/cifar.html).  The dataset consists of airplanes, dogs, cats, and other objects. You'll preprocess the images, then train a convolutional neural network on all the samples. The images need to be normalized and the labels need to be one-hot encoded.  You'll get to apply what you learned and build a convolutional, max pooling, dropout, and fully connected layers.  At the end, you'll get to see your neural network's predictions on the sample images.\n",
    "## Get the Data\n",
    "Run the following cell to download the [CIFAR-10 dataset for python](https://www.cs.toronto.edu/~kriz/cifar-10-python.tar.gz)."
   ]
  },
  {
   "cell_type": "code",
   "execution_count": 1,
   "metadata": {
    "collapsed": false,
    "deletable": true,
    "editable": true
   },
   "outputs": [
    {
     "name": "stderr",
     "output_type": "stream",
     "text": [
      "CIFAR-10 Dataset: 171MB [00:08, 20.3MB/s]                              \n"
     ]
    },
    {
     "name": "stdout",
     "output_type": "stream",
     "text": [
      "All files found!\n"
     ]
    }
   ],
   "source": [
    "\"\"\"\n",
    "DON'T MODIFY ANYTHING IN THIS CELL THAT IS BELOW THIS LINE\n",
    "\"\"\"\n",
    "from urllib.request import urlretrieve\n",
    "from os.path import isfile, isdir\n",
    "from tqdm import tqdm\n",
    "import problem_unittests as tests\n",
    "import tarfile\n",
    "\n",
    "cifar10_dataset_folder_path = 'cifar-10-batches-py'\n",
    "\n",
    "class DLProgress(tqdm):\n",
    "    last_block = 0\n",
    "\n",
    "    def hook(self, block_num=1, block_size=1, total_size=None):\n",
    "        self.total = total_size\n",
    "        self.update((block_num - self.last_block) * block_size)\n",
    "        self.last_block = block_num\n",
    "\n",
    "if not isfile('cifar-10-python.tar.gz'):\n",
    "    with DLProgress(unit='B', unit_scale=True, miniters=1, desc='CIFAR-10 Dataset') as pbar:\n",
    "        urlretrieve(\n",
    "            'https://www.cs.toronto.edu/~kriz/cifar-10-python.tar.gz',\n",
    "            'cifar-10-python.tar.gz',\n",
    "            pbar.hook)\n",
    "\n",
    "if not isdir(cifar10_dataset_folder_path):\n",
    "    with tarfile.open('cifar-10-python.tar.gz') as tar:\n",
    "        tar.extractall()\n",
    "        tar.close()\n",
    "\n",
    "\n",
    "tests.test_folder_path(cifar10_dataset_folder_path)"
   ]
  },
  {
   "cell_type": "markdown",
   "metadata": {
    "deletable": true,
    "editable": true
   },
   "source": [
    "## Explore the Data\n",
    "The dataset is broken into batches to prevent your machine from running out of memory.  The CIFAR-10 dataset consists of 5 batches, named `data_batch_1`, `data_batch_2`, etc.. Each batch contains the labels and images that are one of the following:\n",
    "* airplane\n",
    "* automobile\n",
    "* bird\n",
    "* cat\n",
    "* deer\n",
    "* dog\n",
    "* frog\n",
    "* horse\n",
    "* ship\n",
    "* truck\n",
    "\n",
    "Understanding a dataset is part of making predictions on the data.  Play around with the code cell below by changing the `batch_id` and `sample_id`. The `batch_id` is the id for a batch (1-5). The `sample_id` is the id for a image and label pair in the batch.\n",
    "\n",
    "Ask yourself \"What are all possible labels?\", \"What is the range of values for the image data?\", \"Are the labels in order or random?\".  Answers to questions like these will help you preprocess the data and end up with better predictions."
   ]
  },
  {
   "cell_type": "code",
   "execution_count": 2,
   "metadata": {
    "collapsed": false,
    "deletable": true,
    "editable": true
   },
   "outputs": [
    {
     "name": "stdout",
     "output_type": "stream",
     "text": [
      "\n",
      "Stats of batch 1:\n",
      "Samples: 10000\n",
      "Label Counts: {0: 1005, 1: 974, 2: 1032, 3: 1016, 4: 999, 5: 937, 6: 1030, 7: 1001, 8: 1025, 9: 981}\n",
      "First 20 Labels: [6, 9, 9, 4, 1, 1, 2, 7, 8, 3, 4, 7, 7, 2, 9, 9, 9, 3, 2, 6]\n",
      "\n",
      "Example of Image 5:\n",
      "Image - Min Value: 0 Max Value: 252\n",
      "Image - Shape: (32, 32, 3)\n",
      "Label - Label Id: 1 Name: automobile\n"
     ]
    },
    {
     "data": {
      "image/png": "[encoded data removed]",
      "text/plain": [
       "<matplotlib.figure.Figure at 0x7f0d141d9ef0>"
      ]
     },
     "metadata": {
      "image/png": {
       "height": 250,
       "width": 253
      }
     },
     "output_type": "display_data"
    }
   ],
   "source": [
    "%matplotlib inline\n",
    "%config InlineBackend.figure_format = 'retina'\n",
    "\n",
    "import helper\n",
    "import numpy as np\n",
    "\n",
    "# Explore the dataset\n",
    "batch_id = 1\n",
    "sample_id = 5\n",
    "helper.display_stats(cifar10_dataset_folder_path, batch_id, sample_id)"
   ]
  },
  {
   "cell_type": "markdown",
   "metadata": {
    "deletable": true,
    "editable": true
   },
   "source": [
    "## Implement Preprocess Functions\n",
    "### Normalize\n",
    "In the cell below, implement the `normalize` function to take in image data, `x`, and return it as a normalized Numpy array. The values should be in the range of 0 to 1, inclusive.  The return object should be the same shape as `x`."
   ]
  },
  {
   "cell_type": "code",
   "execution_count": 3,
   "metadata": {
    "collapsed": false,
    "deletable": true,
    "editable": true
   },
   "outputs": [
    {
     "name": "stdout",
     "output_type": "stream",
     "text": [
      "Tests Passed\n"
     ]
    }
   ],
   "source": [
    "def normalize(x):\n",
    "    \"\"\"\n",
    "    Normalize a list of sample image data in the range of 0 to 1\n",
    "    : x: List of image data.  The image shape is (32, 32, 3)\n",
    "    : return: Numpy array of normalize data\n",
    "    \"\"\"\n",
    "    # TODO: Implement Function\n",
    "    return x / np.linalg.norm(x)\n",
    "\n",
    "\n",
    "\"\"\"\n",
    "DON'T MODIFY ANYTHING IN THIS CELL THAT IS BELOW THIS LINE\n",
    "\"\"\"\n",
    "tests.test_normalize(normalize)"
   ]
  },
  {
   "cell_type": "markdown",
   "metadata": {
    "deletable": true,
    "editable": true
   },
   "source": [
    "### One-hot encode\n",
    "Just like the previous code cell, you'll be implementing a function for preprocessing.  This time, you'll implement the `one_hot_encode` function. The input, `x`, are a list of labels.  Implement the function to return the list of labels as One-Hot encoded Numpy array.  The possible values for labels are 0 to 9. The one-hot encoding function should return the same encoding for each value between each call to `one_hot_encode`.  Make sure to save the map of encodings outside the function.\n",
    "\n",
    "Hint: Don't reinvent the wheel."
   ]
  },
  {
   "cell_type": "code",
   "execution_count": 4,
   "metadata": {
    "collapsed": false,
    "deletable": true,
    "editable": true
   },
   "outputs": [
    {
     "name": "stdout",
     "output_type": "stream",
     "text": [
      "Tests Passed\n"
     ]
    }
   ],
   "source": [
    "def one_hot_encode(x):\n",
    "    \"\"\"\n",
    "    One hot encode a list of sample labels. Return a one-hot encoded vector for each label.\n",
    "    : x: List of sample Labels\n",
    "    : return: Numpy array of one-hot encoded labels\n",
    "    \"\"\"\n",
    "    # TODO: Implement Function\n",
    "    y = np.zeros((len(x), 10))\n",
    "    for i in range(len(x)):\n",
    "        y[i, x[i]] = 1\n",
    "    return y\n",
    "\n",
    "\n",
    "\"\"\"\n",
    "DON'T MODIFY ANYTHING IN THIS CELL THAT IS BELOW THIS LINE\n",
    "\"\"\"\n",
    "tests.test_one_hot_encode(one_hot_encode)"
   ]
  },
  {
   "cell_type": "markdown",
   "metadata": {
    "deletable": true,
    "editable": true
   },
   "source": [
    "### Randomize Data\n",
    "As you saw from exploring the data above, the order of the samples are randomized.  It doesn't hurt to randomize it again, but you don't need to for this dataset."
   ]
  },
  {
   "cell_type": "markdown",
   "metadata": {
    "deletable": true,
    "editable": true
   },
   "source": [
    "## Preprocess all the data and save it\n",
    "Running the code cell below will preprocess all the CIFAR-10 data and save it to file. The code below also uses 10% of the training data for validation."
   ]
  },
  {
   "cell_type": "code",
   "execution_count": 5,
   "metadata": {
    "collapsed": false,
    "deletable": true,
    "editable": true
   },
   "outputs": [],
   "source": [
    "\"\"\"\n",
    "DON'T MODIFY ANYTHING IN THIS CELL\n",
    "\"\"\"\n",
    "# Preprocess Training, Validation, and Testing Data\n",
    "helper.preprocess_and_save_data(cifar10_dataset_folder_path, normalize, one_hot_encode)"
   ]
  },
  {
   "cell_type": "markdown",
   "metadata": {
    "deletable": true,
    "editable": true
   },
   "source": [
    "# Check Point\n",
    "This is your first checkpoint.  If you ever decide to come back to this notebook or have to restart the notebook, you can start from here.  The preprocessed data has been saved to disk."
   ]
  },
  {
   "cell_type": "code",
   "execution_count": 6,
   "metadata": {
    "collapsed": true,
    "deletable": true,
    "editable": true
   },
   "outputs": [],
   "source": [
    "\"\"\"\n",
    "DON'T MODIFY ANYTHING IN THIS CELL\n",
    "\"\"\"\n",
    "import pickle\n",
    "import problem_unittests as tests\n",
    "import helper\n",
    "\n",
    "# Load the Preprocessed Validation data\n",
    "valid_features, valid_labels = pickle.load(open('preprocess_validation.p', mode='rb'))"
   ]
  },
  {
   "cell_type": "markdown",
   "metadata": {
    "deletable": true,
    "editable": true
   },
   "source": [
    "## Build the network\n",
    "For the neural network, you'll build each layer into a function.  Most of the code you've seen has been outside of functions. To test your code more thoroughly, we require that you put each layer in a function.  This allows us to give you better feedback and test for simple mistakes using our unittests before you submit your project.\n",
    "\n",
    ">**Note:** If you're finding it hard to dedicate enough time for this course each week, we've provided a small shortcut to this part of the project. In the next couple of problems, you'll have the option to use classes from the [TensorFlow Layers](https://www.tensorflow.org/api_docs/python/tf/layers) or [TensorFlow Layers (contrib)](https://www.tensorflow.org/api_guides/python/contrib.layers) packages to build each layer, except the layers you build in the \"Convolutional and Max Pooling Layer\" section.  TF Layers is similar to Keras's and TFLearn's abstraction to layers, so it's easy to pickup.\n",
    "\n",
    ">However, if you would like to get the most out of this course, try to solve all the problems _without_ using anything from the TF Layers packages. You **can** still use classes from other packages that happen to have the same name as ones you find in TF Layers! For example, instead of using the TF Layers version of the `conv2d` class, [tf.layers.conv2d](https://www.tensorflow.org/api_docs/python/tf/layers/conv2d), you would want to use the TF Neural Network version of `conv2d`, [tf.nn.conv2d](https://www.tensorflow.org/api_docs/python/tf/nn/conv2d). \n",
    "\n",
    "Let's begin!\n",
    "\n",
    "### Input\n",
    "The neural network needs to read the image data, one-hot encoded labels, and dropout keep probability. Implement the following functions\n",
    "* Implement `neural_net_image_input`\n",
    " * Return a [TF Placeholder](https://www.tensorflow.org/api_docs/python/tf/placeholder)\n",
    " * Set the shape using `image_shape` with batch size set to `None`.\n",
    " * Name the TensorFlow placeholder \"x\" using the TensorFlow `name` parameter in the [TF Placeholder](https://www.tensorflow.org/api_docs/python/tf/placeholder).\n",
    "* Implement `neural_net_label_input`\n",
    " * Return a [TF Placeholder](https://www.tensorflow.org/api_docs/python/tf/placeholder)\n",
    " * Set the shape using `n_classes` with batch size set to `None`.\n",
    " * Name the TensorFlow placeholder \"y\" using the TensorFlow `name` parameter in the [TF Placeholder](https://www.tensorflow.org/api_docs/python/tf/placeholder).\n",
    "* Implement `neural_net_keep_prob_input`\n",
    " * Return a [TF Placeholder](https://www.tensorflow.org/api_docs/python/tf/placeholder) for dropout keep probability.\n",
    " * Name the TensorFlow placeholder \"keep_prob\" using the TensorFlow `name` parameter in the [TF Placeholder](https://www.tensorflow.org/api_docs/python/tf/placeholder).\n",
    "\n",
    "These names will be used at the end of the project to load your saved model.\n",
    "\n",
    "Note: `None` for shapes in TensorFlow allow for a dynamic size."
   ]
  },
  {
   "cell_type": "code",
   "execution_count": 7,
   "metadata": {
    "collapsed": false,
    "deletable": true,
    "editable": true
   },
   "outputs": [
    {
     "name": "stdout",
     "output_type": "stream",
     "text": [
      "Image Input Tests Passed.\n",
      "Label Input Tests Passed.\n",
      "Keep Prob Tests Passed.\n"
     ]
    }
   ],
   "source": [
    "import tensorflow as tf\n",
    "\n",
    "def neural_net_image_input(image_shape):\n",
    "    \"\"\"\n",
    "    Return a Tensor for a bach of image input\n",
    "    : image_shape: Shape of the images\n",
    "    : return: Tensor for image input.\n",
    "    \"\"\"\n",
    "    # TODO: Implement Function\n",
    "    return tf.placeholder(tf.float32, shape=(None, *image_shape), name='x')\n",
    "\n",
    "\n",
    "def neural_net_label_input(n_classes):\n",
    "    \"\"\"\n",
    "    Return a Tensor for a batch of label input\n",
    "    : n_classes: Number of classes\n",
    "    : return: Tensor for label input.\n",
    "    \"\"\"\n",
    "    # TODO: Implement Function\n",
    "    return tf.placeholder(tf.float32, shape=(None, n_classes), name='y')\n",
    "\n",
    "\n",
    "def neural_net_keep_prob_input():\n",
    "    \"\"\"\n",
    "    Return a Tensor for keep probability\n",
    "    : return: Tensor for keep probability.\n",
    "    \"\"\"\n",
    "    # TODO: Implement Function\n",
    "    return tf.placeholder(tf.float32, name='keep_prob')\n",
    "\n",
    "\n",
    "\"\"\"\n",
    "DON'T MODIFY ANYTHING IN THIS CELL THAT IS BELOW THIS LINE\n",
    "\"\"\"\n",
    "tf.reset_default_graph()\n",
    "tests.test_nn_image_inputs(neural_net_image_input)\n",
    "tests.test_nn_label_inputs(neural_net_label_input)\n",
    "tests.test_nn_keep_prob_inputs(neural_net_keep_prob_input)"
   ]
  },
  {
   "cell_type": "markdown",
   "metadata": {
    "deletable": true,
    "editable": true
   },
   "source": [
    "### Convolution and Max Pooling Layer\n",
    "Convolution layers have a lot of success with images. For this code cell, you should implement the function `conv2d_maxpool` to apply convolution then max pooling:\n",
    "* Create the weight and bias using `conv_ksize`, `conv_num_outputs` and the shape of `x_tensor`.\n",
    "* Apply a convolution to `x_tensor` using weight and `conv_strides`.\n",
    " * We recommend you use same padding, but you're welcome to use any padding.\n",
    "* Add bias\n",
    "* Add a nonlinear activation to the convolution.\n",
    "* Apply Max Pooling using `pool_ksize` and `pool_strides`.\n",
    " * We recommend you use same padding, but you're welcome to use any padding.\n",
    "\n",
    "**Note:** You **can't** use [TensorFlow Layers](https://www.tensorflow.org/api_docs/python/tf/layers) or [TensorFlow Layers (contrib)](https://www.tensorflow.org/api_guides/python/contrib.layers) for **this** layer, but you can still use TensorFlow's [Neural Network](https://www.tensorflow.org/api_docs/python/tf/nn) package. You may still use the shortcut option for all the **other** layers."
   ]
  },
  {
   "cell_type": "code",
   "execution_count": 8,
   "metadata": {
    "collapsed": false,
    "deletable": true,
    "editable": true
   },
   "outputs": [
    {
     "name": "stdout",
     "output_type": "stream",
     "text": [
      "Tests Passed\n"
     ]
    }
   ],
   "source": [
    "def conv2d_maxpool(x_tensor, conv_num_outputs, conv_ksize, conv_strides, pool_ksize, pool_strides):\n",
    "    \"\"\"\n",
    "    Apply convolution then max pooling to x_tensor\n",
    "    :param x_tensor: TensorFlow Tensor\n",
    "    :param conv_num_outputs: Number of outputs for the convolutional layer\n",
    "    :param conv_ksize: kernal size 2-D Tuple for the convolutional layer\n",
    "    :param conv_strides: Stride 2-D Tuple for convolution\n",
    "    :param pool_ksize: kernal size 2-D Tuple for pool\n",
    "    :param pool_strides: Stride 2-D Tuple for pool\n",
    "    : return: A tensor that represents convolution and max pooling of x_tensor\n",
    "    \"\"\"\n",
    "    # TODO: Implement Function\n",
    "    W = tf.Variable(tf.truncated_normal([*conv_ksize, x_tensor.get_shape().as_list()[-1], conv_num_outputs]))\n",
    "    b = tf.Variable(tf.zeros([conv_num_outputs]))\n",
    "    \n",
    "    conv2d_layer = tf.nn.conv2d(\n",
    "        x_tensor,\n",
    "        W,\n",
    "        strides=[1, *conv_strides, 1],\n",
    "        padding='SAME'\n",
    "    )\n",
    "    \n",
    "    bias_layer = tf.nn.bias_add(conv2d_layer, b)\n",
    "    \n",
    "    relu_layer = tf.nn.relu(bias_layer)\n",
    "    \n",
    "    max_pool_layer = tf.nn.max_pool(\n",
    "        relu_layer,\n",
    "        ksize=[1, *pool_ksize, 1],\n",
    "        strides=[1, *pool_strides, 1],\n",
    "        padding='SAME'\n",
    "    )\n",
    "    \n",
    "    return max_pool_layer\n",
    "\n",
    "\n",
    "\"\"\"\n",
    "DON'T MODIFY ANYTHING IN THIS CELL THAT IS BELOW THIS LINE\n",
    "\"\"\"\n",
    "tests.test_con_pool(conv2d_maxpool)"
   ]
  },
  {
   "cell_type": "markdown",
   "metadata": {
    "deletable": true,
    "editable": true
   },
   "source": [
    "### Flatten Layer\n",
    "Implement the `flatten` function to change the dimension of `x_tensor` from a 4-D tensor to a 2-D tensor.  The output should be the shape (*Batch Size*, *Flattened Image Size*). Shortcut option: you can use classes from the [TensorFlow Layers](https://www.tensorflow.org/api_docs/python/tf/layers) or [TensorFlow Layers (contrib)](https://www.tensorflow.org/api_guides/python/contrib.layers) packages for this layer. For more of a challenge, only use other TensorFlow packages."
   ]
  },
  {
   "cell_type": "code",
   "execution_count": 9,
   "metadata": {
    "collapsed": false,
    "deletable": true,
    "editable": true
   },
   "outputs": [
    {
     "name": "stdout",
     "output_type": "stream",
     "text": [
      "Tests Passed\n"
     ]
    }
   ],
   "source": [
    "def flatten(x_tensor):\n",
    "    \"\"\"\n",
    "    Flatten x_tensor to (Batch Size, Flattened Image Size)\n",
    "    : x_tensor: A tensor of size (Batch Size, ...), where ... are the image dimensions.\n",
    "    : return: A tensor of size (Batch Size, Flattened Image Size).\n",
    "    \"\"\"\n",
    "    # TODO: Implement Function\n",
    "    return tf.contrib.layers.flatten(x_tensor)\n",
    "\n",
    "\n",
    "\"\"\"\n",
    "DON'T MODIFY ANYTHING IN THIS CELL THAT IS BELOW THIS LINE\n",
    "\"\"\"\n",
    "tests.test_flatten(flatten)"
   ]
  },
  {
   "cell_type": "markdown",
   "metadata": {
    "deletable": true,
    "editable": true
   },
   "source": [
    "### Fully-Connected Layer\n",
    "Implement the `fully_conn` function to apply a fully connected layer to `x_tensor` with the shape (*Batch Size*, *num_outputs*). Shortcut option: you can use classes from the [TensorFlow Layers](https://www.tensorflow.org/api_docs/python/tf/layers) or [TensorFlow Layers (contrib)](https://www.tensorflow.org/api_guides/python/contrib.layers) packages for this layer. For more of a challenge, only use other TensorFlow packages."
   ]
  },
  {
   "cell_type": "code",
   "execution_count": 10,
   "metadata": {
    "collapsed": false,
    "deletable": true,
    "editable": true
   },
   "outputs": [
    {
     "name": "stdout",
     "output_type": "stream",
     "text": [
      "Tests Passed\n"
     ]
    }
   ],
   "source": [
    "def fully_conn(x_tensor, num_outputs):\n",
    "    \"\"\"\n",
    "    Apply a fully connected layer to x_tensor using weight and bias\n",
    "    : x_tensor: A 2-D tensor where the first dimension is batch size.\n",
    "    : num_outputs: The number of output that the new tensor should be.\n",
    "    : return: A 2-D tensor where the second dimension is num_outputs.\n",
    "    \"\"\"\n",
    "    # TODO: Implement Function\n",
    "    return tf.contrib.layers.fully_connected(x_tensor, num_outputs)\n",
    "\n",
    "\n",
    "\"\"\"\n",
    "DON'T MODIFY ANYTHING IN THIS CELL THAT IS BELOW THIS LINE\n",
    "\"\"\"\n",
    "tests.test_fully_conn(fully_conn)"
   ]
  },
  {
   "cell_type": "markdown",
   "metadata": {
    "deletable": true,
    "editable": true
   },
   "source": [
    "### Output Layer\n",
    "Implement the `output` function to apply a fully connected layer to `x_tensor` with the shape (*Batch Size*, *num_outputs*). Shortcut option: you can use classes from the [TensorFlow Layers](https://www.tensorflow.org/api_docs/python/tf/layers) or [TensorFlow Layers (contrib)](https://www.tensorflow.org/api_guides/python/contrib.layers) packages for this layer. For more of a challenge, only use other TensorFlow packages.\n",
    "\n",
    "**Note:** Activation, softmax, or cross entropy should **not** be applied to this."
   ]
  },
  {
   "cell_type": "code",
   "execution_count": 11,
   "metadata": {
    "collapsed": false,
    "deletable": true,
    "editable": true
   },
   "outputs": [
    {
     "name": "stdout",
     "output_type": "stream",
     "text": [
      "Tests Passed\n"
     ]
    }
   ],
   "source": [
    "def output(x_tensor, num_outputs):\n",
    "    \"\"\"\n",
    "    Apply a output layer to x_tensor using weight and bias\n",
    "    : x_tensor: A 2-D tensor where the first dimension is batch size.\n",
    "    : num_outputs: The number of output that the new tensor should be.\n",
    "    : return: A 2-D tensor where the second dimension is num_outputs.\n",
    "    \"\"\"\n",
    "    # TODO: Implement Function\n",
    "    weights = tf.Variable(tf.random_normal([x_tensor.get_shape().as_list()[1], num_outputs]))\n",
    "    biases = tf.Variable(tf.random_normal([num_outputs]))       \n",
    "    \n",
    "    output_layer = tf.add(tf.matmul(x_tensor, weights), biases)\n",
    "\n",
    "    return output_layer\n",
    "\n",
    "\n",
    "\"\"\"\n",
    "DON'T MODIFY ANYTHING IN THIS CELL THAT IS BELOW THIS LINE\n",
    "\"\"\"\n",
    "tests.test_output(output)"
   ]
  },
  {
   "cell_type": "markdown",
   "metadata": {
    "deletable": true,
    "editable": true
   },
   "source": [
    "### Create Convolutional Model\n",
    "Implement the function `conv_net` to create a convolutional neural network model. The function takes in a batch of images, `x`, and outputs logits.  Use the layers you created above to create this model:\n",
    "\n",
    "* Apply 1, 2, or 3 Convolution and Max Pool layers\n",
    "* Apply a Flatten Layer\n",
    "* Apply 1, 2, or 3 Fully Connected Layers\n",
    "* Apply an Output Layer\n",
    "* Return the output\n",
    "* Apply [TensorFlow's Dropout](https://www.tensorflow.org/api_docs/python/tf/nn/dropout) to one or more layers in the model using `keep_prob`. "
   ]
  },
  {
   "cell_type": "code",
   "execution_count": 18,
   "metadata": {
    "collapsed": false,
    "deletable": true,
    "editable": true
   },
   "outputs": [
    {
     "name": "stdout",
     "output_type": "stream",
     "text": [
      "Neural Network Built!\n"
     ]
    }
   ],
   "source": [
    "def conv_net(x, keep_prob):\n",
    "    \"\"\"\n",
    "    Create a convolutional neural network model\n",
    "    : x: Placeholder tensor that holds image data.\n",
    "    : keep_prob: Placeholder tensor that hold dropout keep probability.\n",
    "    : return: Tensor that represents logits\n",
    "    \"\"\"\n",
    "    # TODO: Apply 1, 2, or 3 Convolution and Max Pool layers\n",
    "    #    Play around with different number of outputs, kernel size and stride\n",
    "    # Function Definition from Above:\n",
    "    #    conv2d_maxpool(x_tensor, conv_num_outputs, conv_ksize, conv_strides, pool_ksize, pool_strides)\n",
    "    conv_num_outputs = 10\n",
    "    conv_ksize = (5, 5)\n",
    "    conv_strides = (1, 1)\n",
    "    pool_ksize = (5, 5)\n",
    "    pool_strides = (1, 1)\n",
    "    layer = conv2d_maxpool(x, conv_num_outputs, conv_ksize, conv_strides, pool_ksize, pool_strides)\n",
    "    \n",
    "    conv_ksize = (3, 3)\n",
    "    conv_strides = (1, 1)\n",
    "    pool_ksize = (3, 3)\n",
    "    pool_strides = (1, 1)\n",
    "    layer = conv2d_maxpool(layer, conv_num_outputs, conv_ksize, conv_strides, pool_ksize, pool_strides)\n",
    "    \n",
    "    conv_ksize = (1, 1)\n",
    "    conv_strides = (1, 1)\n",
    "    pool_ksize = (1, 1)\n",
    "    pool_strides = (1, 1)\n",
    "    layer = conv2d_maxpool(layer, conv_num_outputs, conv_ksize, conv_strides, pool_ksize, pool_strides)\n",
    "\n",
    "    \n",
    "    # TODO: Apply a Flatten Layer\n",
    "    # Function Definition from Above:\n",
    "    #   flatten(x_tensor)\n",
    "    layer = flatten(layer)\n",
    "    \n",
    "\n",
    "    # TODO: Apply 1, 2, or 3 Fully Connected Layers\n",
    "    #    Play around with different number of outputs\n",
    "    # Function Definition from Above:\n",
    "    #   fully_conn(x_tensor, num_outputs)\n",
    "    layer = fully_conn(layer, 100)\n",
    "    layer = tf.nn.dropout(layer, keep_prob)\n",
    "    \n",
    "    layer = fully_conn(layer, 20)\n",
    "    layer = tf.nn.dropout(layer, keep_prob)\n",
    "    \n",
    "    \n",
    "    # TODO: Apply an Output Layer\n",
    "    #    Set this to the number of classes\n",
    "    # Function Definition from Above:\n",
    "    #   output(x_tensor, num_outputs)\n",
    "    layer = output(layer, 10)\n",
    "    \n",
    "    # TODO: return output\n",
    "    return layer\n",
    "\n",
    "\n",
    "\"\"\"\n",
    "DON'T MODIFY ANYTHING IN THIS CELL THAT IS BELOW THIS LINE\n",
    "\"\"\"\n",
    "\n",
    "##############################\n",
    "## Build the Neural Network ##\n",
    "##############################\n",
    "\n",
    "# Remove previous weights, bias, inputs, etc..\n",
    "tf.reset_default_graph()\n",
    "\n",
    "# Inputs\n",
    "x = neural_net_image_input((32, 32, 3))\n",
    "y = neural_net_label_input(10)\n",
    "keep_prob = neural_net_keep_prob_input()\n",
    "\n",
    "# Model\n",
    "logits = conv_net(x, keep_prob)\n",
    "\n",
    "# Name logits Tensor, so that is can be loaded from disk after training\n",
    "logits = tf.identity(logits, name='logits')\n",
    "\n",
    "# Loss and Optimizer\n",
    "cost = tf.reduce_mean(tf.nn.softmax_cross_entropy_with_logits(logits=logits, labels=y))\n",
    "optimizer = tf.train.AdamOptimizer().minimize(cost)\n",
    "\n",
    "# Accuracy\n",
    "correct_pred = tf.equal(tf.argmax(logits, 1), tf.argmax(y, 1))\n",
    "accuracy = tf.reduce_mean(tf.cast(correct_pred, tf.float32), name='accuracy')\n",
    "\n",
    "tests.test_conv_net(conv_net)"
   ]
  },
  {
   "cell_type": "markdown",
   "metadata": {
    "deletable": true,
    "editable": true
   },
   "source": [
    "## Train the Neural Network\n",
    "### Single Optimization\n",
    "Implement the function `train_neural_network` to do a single optimization.  The optimization should use `optimizer` to optimize in `session` with a `feed_dict` of the following:\n",
    "* `x` for image input\n",
    "* `y` for labels\n",
    "* `keep_prob` for keep probability for dropout\n",
    "\n",
    "This function will be called for each batch, so `tf.global_variables_initializer()` has already been called.\n",
    "\n",
    "Note: Nothing needs to be returned. This function is only optimizing the neural network."
   ]
  },
  {
   "cell_type": "code",
   "execution_count": 19,
   "metadata": {
    "collapsed": false,
    "deletable": true,
    "editable": true
   },
   "outputs": [
    {
     "name": "stdout",
     "output_type": "stream",
     "text": [
      "Tests Passed\n"
     ]
    }
   ],
   "source": [
    "def train_neural_network(session, optimizer, keep_probability, feature_batch, label_batch):\n",
    "    \"\"\"\n",
    "    Optimize the session on a batch of images and labels\n",
    "    : session: Current TensorFlow session\n",
    "    : optimizer: TensorFlow optimizer function\n",
    "    : keep_probability: keep probability\n",
    "    : feature_batch: Batch of Numpy image data\n",
    "    : label_batch: Batch of Numpy label data\n",
    "    \"\"\"\n",
    "    # TODO: Implement Function\n",
    "    feed_dict = {\n",
    "        x : feature_batch,\n",
    "        y : label_batch,\n",
    "        keep_prob : keep_probability\n",
    "    }\n",
    "    session.run(optimizer, feed_dict=feed_dict)\n",
    "\n",
    "\n",
    "\"\"\"\n",
    "DON'T MODIFY ANYTHING IN THIS CELL THAT IS BELOW THIS LINE\n",
    "\"\"\"\n",
    "tests.test_train_nn(train_neural_network)"
   ]
  },
  {
   "cell_type": "markdown",
   "metadata": {
    "deletable": true,
    "editable": true
   },
   "source": [
    "### Show Stats\n",
    "Implement the function `print_stats` to print loss and validation accuracy.  Use the global variables `valid_features` and `valid_labels` to calculate validation accuracy.  Use a keep probability of `1.0` to calculate the loss and validation accuracy."
   ]
  },
  {
   "cell_type": "code",
   "execution_count": 20,
   "metadata": {
    "collapsed": false,
    "deletable": true,
    "editable": true
   },
   "outputs": [],
   "source": [
    "def print_stats(session, feature_batch, label_batch, cost, accuracy):\n",
    "    \"\"\"\n",
    "    Print information about loss and validation accuracy\n",
    "    : session: Current TensorFlow session\n",
    "    : feature_batch: Batch of Numpy image data\n",
    "    : label_batch: Batch of Numpy label data\n",
    "    : cost: TensorFlow cost function\n",
    "    : accuracy: TensorFlow accuracy function\n",
    "    \"\"\"\n",
    "    # TODO: Implement Function\n",
    "    loss = session.run(cost, {x : feature_batch, y : label_batch, keep_prob: 1.0})\n",
    "    validation_accuracy = session.run(accuracy, {x : feature_batch, y : label_batch, keep_prob: 1.0})\n",
    "    print('Loss: {:.3}, Accuracy: {:.1%}'.format(loss, validation_accuracy))"
   ]
  },
  {
   "cell_type": "markdown",
   "metadata": {
    "deletable": true,
    "editable": true
   },
   "source": [
    "### Hyperparameters\n",
    "Tune the following parameters:\n",
    "* Set `epochs` to the number of iterations until the network stops learning or start overfitting\n",
    "* Set `batch_size` to the highest number that your machine has memory for.  Most people set them to common sizes of memory:\n",
    " * 64\n",
    " * 128\n",
    " * 256\n",
    " * ...\n",
    "* Set `keep_probability` to the probability of keeping a node using dropout"
   ]
  },
  {
   "cell_type": "code",
   "execution_count": 23,
   "metadata": {
    "collapsed": true,
    "deletable": true,
    "editable": true
   },
   "outputs": [],
   "source": [
    "# TODO: Tune Parameters\n",
    "epochs = 100\n",
    "batch_size = 256\n",
    "keep_probability = 0.8"
   ]
  },
  {
   "cell_type": "markdown",
   "metadata": {
    "deletable": true,
    "editable": true
   },
   "source": [
    "### Train on a Single CIFAR-10 Batch\n",
    "Instead of training the neural network on all the CIFAR-10 batches of data, let's use a single batch. This should save time while you iterate on the model to get a better accuracy.  Once the final validation accuracy is 50% or greater, run the model on all the data in the next section."
   ]
  },
  {
   "cell_type": "code",
   "execution_count": 24,
   "metadata": {
    "collapsed": false,
    "deletable": true,
    "editable": true
   },
   "outputs": [
    {
     "name": "stdout",
     "output_type": "stream",
     "text": [
      "Checking the Training on a Single Batch...\n",
      "Epoch  1, CIFAR-10 Batch 1:  Loss: 2.41, Accuracy: 7.5%\n",
      "Epoch  2, CIFAR-10 Batch 1:  Loss: 2.31, Accuracy: 17.5%\n",
      "Epoch  3, CIFAR-10 Batch 1:  Loss: 2.23, Accuracy: 15.0%\n",
      "Epoch  4, CIFAR-10 Batch 1:  Loss: 2.21, Accuracy: 22.5%\n",
      "Epoch  5, CIFAR-10 Batch 1:  Loss: 2.15, Accuracy: 25.0%\n",
      "Epoch  6, CIFAR-10 Batch 1:  Loss: 2.08, Accuracy: 32.5%\n",
      "Epoch  7, CIFAR-10 Batch 1:  Loss: 1.93, Accuracy: 40.0%\n",
      "Epoch  8, CIFAR-10 Batch 1:  Loss: 1.91, Accuracy: 47.5%\n",
      "Epoch  9, CIFAR-10 Batch 1:  Loss: 1.9, Accuracy: 32.5%\n",
      "Epoch 10, CIFAR-10 Batch 1:  Loss: 1.83, Accuracy: 45.0%\n",
      "Epoch 11, CIFAR-10 Batch 1:  Loss: 1.78, Accuracy: 42.5%\n",
      "Epoch 12, CIFAR-10 Batch 1:  Loss: 1.7, Accuracy: 52.5%\n",
      "Epoch 13, CIFAR-10 Batch 1:  Loss: 1.72, Accuracy: 45.0%\n",
      "Epoch 14, CIFAR-10 Batch 1:  Loss: 1.64, Accuracy: 50.0%\n",
      "Epoch 15, CIFAR-10 Batch 1:  Loss: 1.56, Accuracy: 57.5%\n",
      "Epoch 16, CIFAR-10 Batch 1:  Loss: 1.5, Accuracy: 55.0%\n",
      "Epoch 17, CIFAR-10 Batch 1:  Loss: 1.43, Accuracy: 62.5%\n",
      "Epoch 18, CIFAR-10 Batch 1:  Loss: 1.47, Accuracy: 60.0%\n",
      "Epoch 19, CIFAR-10 Batch 1:  Loss: 1.45, Accuracy: 60.0%\n",
      "Epoch 20, CIFAR-10 Batch 1:  Loss: 1.35, Accuracy: 67.5%\n",
      "Epoch 21, CIFAR-10 Batch 1:  Loss: 1.37, Accuracy: 60.0%\n",
      "Epoch 22, CIFAR-10 Batch 1:  Loss: 1.3, Accuracy: 57.5%\n",
      "Epoch 23, CIFAR-10 Batch 1:  Loss: 1.24, Accuracy: 70.0%\n",
      "Epoch 24, CIFAR-10 Batch 1:  Loss: 1.26, Accuracy: 60.0%\n",
      "Epoch 25, CIFAR-10 Batch 1:  Loss: 1.2, Accuracy: 70.0%\n",
      "Epoch 26, CIFAR-10 Batch 1:  Loss: 1.18, Accuracy: 70.0%\n",
      "Epoch 27, CIFAR-10 Batch 1:  Loss: 1.18, Accuracy: 67.5%\n",
      "Epoch 28, CIFAR-10 Batch 1:  Loss: 1.18, Accuracy: 62.5%\n",
      "Epoch 29, CIFAR-10 Batch 1:  Loss: 1.18, Accuracy: 62.5%\n",
      "Epoch 30, CIFAR-10 Batch 1:  Loss: 1.13, Accuracy: 75.0%\n",
      "Epoch 31, CIFAR-10 Batch 1:  Loss: 1.12, Accuracy: 75.0%\n",
      "Epoch 32, CIFAR-10 Batch 1:  Loss: 1.16, Accuracy: 62.5%\n",
      "Epoch 33, CIFAR-10 Batch 1:  Loss: 1.05, Accuracy: 82.5%\n",
      "Epoch 34, CIFAR-10 Batch 1:  Loss: 1.03, Accuracy: 80.0%\n",
      "Epoch 35, CIFAR-10 Batch 1:  Loss: 1.07, Accuracy: 80.0%\n",
      "Epoch 36, CIFAR-10 Batch 1:  Loss: 1.04, Accuracy: 72.5%\n",
      "Epoch 37, CIFAR-10 Batch 1:  Loss: 1.02, Accuracy: 70.0%\n",
      "Epoch 38, CIFAR-10 Batch 1:  Loss: 1.0, Accuracy: 77.5%\n",
      "Epoch 39, CIFAR-10 Batch 1:  Loss: 1.05, Accuracy: 67.5%\n",
      "Epoch 40, CIFAR-10 Batch 1:  Loss: 0.934, Accuracy: 75.0%\n",
      "Epoch 41, CIFAR-10 Batch 1:  Loss: 0.952, Accuracy: 82.5%\n",
      "Epoch 42, CIFAR-10 Batch 1:  Loss: 0.933, Accuracy: 72.5%\n",
      "Epoch 43, CIFAR-10 Batch 1:  Loss: 0.901, Accuracy: 77.5%\n",
      "Epoch 44, CIFAR-10 Batch 1:  Loss: 0.944, Accuracy: 82.5%\n",
      "Epoch 45, CIFAR-10 Batch 1:  Loss: 0.915, Accuracy: 75.0%\n",
      "Epoch 46, CIFAR-10 Batch 1:  Loss: 0.916, Accuracy: 80.0%\n",
      "Epoch 47, CIFAR-10 Batch 1:  Loss: 0.915, Accuracy: 80.0%\n",
      "Epoch 48, CIFAR-10 Batch 1:  Loss: 0.844, Accuracy: 80.0%\n",
      "Epoch 49, CIFAR-10 Batch 1:  Loss: 0.885, Accuracy: 80.0%\n",
      "Epoch 50, CIFAR-10 Batch 1:  Loss: 0.88, Accuracy: 80.0%\n",
      "Epoch 51, CIFAR-10 Batch 1:  Loss: 0.855, Accuracy: 82.5%\n",
      "Epoch 52, CIFAR-10 Batch 1:  Loss: 0.842, Accuracy: 80.0%\n",
      "Epoch 53, CIFAR-10 Batch 1:  Loss: 0.815, Accuracy: 85.0%\n",
      "Epoch 54, CIFAR-10 Batch 1:  Loss: 0.978, Accuracy: 77.5%\n",
      "Epoch 55, CIFAR-10 Batch 1:  Loss: 0.818, Accuracy: 82.5%\n",
      "Epoch 56, CIFAR-10 Batch 1:  Loss: 0.775, Accuracy: 85.0%\n",
      "Epoch 57, CIFAR-10 Batch 1:  Loss: 0.772, Accuracy: 87.5%\n",
      "Epoch 58, CIFAR-10 Batch 1:  Loss: 0.75, Accuracy: 80.0%\n",
      "Epoch 59, CIFAR-10 Batch 1:  Loss: 0.722, Accuracy: 90.0%\n",
      "Epoch 60, CIFAR-10 Batch 1:  Loss: 0.752, Accuracy: 82.5%\n",
      "Epoch 61, CIFAR-10 Batch 1:  Loss: 0.821, Accuracy: 80.0%\n",
      "Epoch 62, CIFAR-10 Batch 1:  Loss: 0.688, Accuracy: 85.0%\n",
      "Epoch 63, CIFAR-10 Batch 1:  Loss: 0.742, Accuracy: 82.5%\n",
      "Epoch 64, CIFAR-10 Batch 1:  Loss: 0.734, Accuracy: 75.0%\n",
      "Epoch 65, CIFAR-10 Batch 1:  Loss: 0.682, Accuracy: 90.0%\n",
      "Epoch 66, CIFAR-10 Batch 1:  Loss: 0.7, Accuracy: 77.5%\n",
      "Epoch 67, CIFAR-10 Batch 1:  Loss: 0.646, Accuracy: 82.5%\n",
      "Epoch 68, CIFAR-10 Batch 1:  Loss: 0.653, Accuracy: 87.5%\n",
      "Epoch 69, CIFAR-10 Batch 1:  Loss: 0.624, Accuracy: 92.5%\n",
      "Epoch 70, CIFAR-10 Batch 1:  Loss: 0.662, Accuracy: 85.0%\n",
      "Epoch 71, CIFAR-10 Batch 1:  Loss: 0.606, Accuracy: 90.0%\n",
      "Epoch 72, CIFAR-10 Batch 1:  Loss: 0.644, Accuracy: 82.5%\n",
      "Epoch 73, CIFAR-10 Batch 1:  Loss: 0.629, Accuracy: 90.0%\n",
      "Epoch 74, CIFAR-10 Batch 1:  Loss: 0.576, Accuracy: 92.5%\n",
      "Epoch 75, CIFAR-10 Batch 1:  Loss: 0.597, Accuracy: 90.0%\n",
      "Epoch 76, CIFAR-10 Batch 1:  Loss: 0.563, Accuracy: 90.0%\n",
      "Epoch 77, CIFAR-10 Batch 1:  Loss: 0.549, Accuracy: 95.0%\n",
      "Epoch 78, CIFAR-10 Batch 1:  Loss: 0.533, Accuracy: 95.0%\n",
      "Epoch 79, CIFAR-10 Batch 1:  Loss: 0.511, Accuracy: 90.0%\n",
      "Epoch 80, CIFAR-10 Batch 1:  Loss: 0.588, Accuracy: 90.0%\n",
      "Epoch 81, CIFAR-10 Batch 1:  Loss: 0.51, Accuracy: 97.5%\n",
      "Epoch 82, CIFAR-10 Batch 1:  Loss: 0.516, Accuracy: 97.5%\n",
      "Epoch 83, CIFAR-10 Batch 1:  Loss: 0.52, Accuracy: 90.0%\n",
      "Epoch 84, CIFAR-10 Batch 1:  Loss: 0.525, Accuracy: 92.5%\n",
      "Epoch 85, CIFAR-10 Batch 1:  Loss: 0.542, Accuracy: 90.0%\n",
      "Epoch 86, CIFAR-10 Batch 1:  Loss: 0.566, Accuracy: 95.0%\n",
      "Epoch 87, CIFAR-10 Batch 1:  Loss: 0.54, Accuracy: 95.0%\n",
      "Epoch 88, CIFAR-10 Batch 1:  Loss: 0.508, Accuracy: 92.5%\n",
      "Epoch 89, CIFAR-10 Batch 1:  Loss: 0.48, Accuracy: 92.5%\n",
      "Epoch 90, CIFAR-10 Batch 1:  Loss: 0.468, Accuracy: 97.5%\n",
      "Epoch 91, CIFAR-10 Batch 1:  Loss: 0.465, Accuracy: 92.5%\n",
      "Epoch 92, CIFAR-10 Batch 1:  Loss: 0.473, Accuracy: 95.0%\n",
      "Epoch 93, CIFAR-10 Batch 1:  Loss: 0.455, Accuracy: 97.5%\n",
      "Epoch 94, CIFAR-10 Batch 1:  Loss: 0.442, Accuracy: 95.0%\n",
      "Epoch 95, CIFAR-10 Batch 1:  Loss: 0.428, Accuracy: 95.0%\n",
      "Epoch 96, CIFAR-10 Batch 1:  Loss: 0.46, Accuracy: 92.5%\n",
      "Epoch 97, CIFAR-10 Batch 1:  Loss: 0.435, Accuracy: 90.0%\n",
      "Epoch 98, CIFAR-10 Batch 1:  Loss: 0.419, Accuracy: 90.0%\n",
      "Epoch 99, CIFAR-10 Batch 1:  Loss: 0.402, Accuracy: 97.5%\n",
      "Epoch 100, CIFAR-10 Batch 1:  Loss: 0.4, Accuracy: 97.5%\n"
     ]
    }
   ],
   "source": [
    "\"\"\"\n",
    "DON'T MODIFY ANYTHING IN THIS CELL\n",
    "\"\"\"\n",
    "print('Checking the Training on a Single Batch...')\n",
    "with tf.Session() as sess:\n",
    "    # Initializing the variables\n",
    "    sess.run(tf.global_variables_initializer())\n",
    "    \n",
    "    # Training cycle\n",
    "    for epoch in range(epochs):\n",
    "        batch_i = 1\n",
    "        for batch_features, batch_labels in helper.load_preprocess_training_batch(batch_i, batch_size):\n",
    "            train_neural_network(sess, optimizer, keep_probability, batch_features, batch_labels)\n",
    "        print('Epoch {:>2}, CIFAR-10 Batch {}:  '.format(epoch + 1, batch_i), end='')\n",
    "        print_stats(sess, batch_features, batch_labels, cost, accuracy)"
   ]
  },
  {
   "cell_type": "markdown",
   "metadata": {
    "deletable": true,
    "editable": true
   },
   "source": [
    "### Fully Train the Model\n",
    "Now that you got a good accuracy with a single CIFAR-10 batch, try it with all five batches."
   ]
  },
  {
   "cell_type": "code",
   "execution_count": 25,
   "metadata": {
    "collapsed": false,
    "deletable": true,
    "editable": true
   },
   "outputs": [
    {
     "name": "stdout",
     "output_type": "stream",
     "text": [
      "Training...\n",
      "Epoch  1, CIFAR-10 Batch 1:  Loss: 2.42, Accuracy: 10.0%\n",
      "Epoch  1, CIFAR-10 Batch 2:  Loss: 2.27, Accuracy: 15.0%\n",
      "Epoch  1, CIFAR-10 Batch 3:  Loss: 2.17, Accuracy: 15.0%\n",
      "Epoch  1, CIFAR-10 Batch 4:  Loss: 1.94, Accuracy: 37.5%\n",
      "Epoch  1, CIFAR-10 Batch 5:  Loss: 2.2, Accuracy: 20.0%\n",
      "Epoch  2, CIFAR-10 Batch 1:  Loss: 2.23, Accuracy: 25.0%\n",
      "Epoch  2, CIFAR-10 Batch 2:  Loss: 2.04, Accuracy: 22.5%\n",
      "Epoch  2, CIFAR-10 Batch 3:  Loss: 2.0, Accuracy: 22.5%\n",
      "Epoch  2, CIFAR-10 Batch 4:  Loss: 1.73, Accuracy: 42.5%\n",
      "Epoch  2, CIFAR-10 Batch 5:  Loss: 2.06, Accuracy: 25.0%\n",
      "Epoch  3, CIFAR-10 Batch 1:  Loss: 2.04, Accuracy: 32.5%\n",
      "Epoch  3, CIFAR-10 Batch 2:  Loss: 1.93, Accuracy: 37.5%\n",
      "Epoch  3, CIFAR-10 Batch 3:  Loss: 1.82, Accuracy: 32.5%\n",
      "Epoch  3, CIFAR-10 Batch 4:  Loss: 1.67, Accuracy: 45.0%\n",
      "Epoch  3, CIFAR-10 Batch 5:  Loss: 2.08, Accuracy: 20.0%\n",
      "Epoch  4, CIFAR-10 Batch 1:  Loss: 1.96, Accuracy: 32.5%\n",
      "Epoch  4, CIFAR-10 Batch 2:  Loss: 1.79, Accuracy: 42.5%\n",
      "Epoch  4, CIFAR-10 Batch 3:  Loss: 1.81, Accuracy: 40.0%\n",
      "Epoch  4, CIFAR-10 Batch 4:  Loss: 1.63, Accuracy: 45.0%\n",
      "Epoch  4, CIFAR-10 Batch 5:  Loss: 1.83, Accuracy: 27.5%\n",
      "Epoch  5, CIFAR-10 Batch 1:  Loss: 1.85, Accuracy: 37.5%\n",
      "Epoch  5, CIFAR-10 Batch 2:  Loss: 1.72, Accuracy: 35.0%\n",
      "Epoch  5, CIFAR-10 Batch 3:  Loss: 1.66, Accuracy: 40.0%\n",
      "Epoch  5, CIFAR-10 Batch 4:  Loss: 1.53, Accuracy: 45.0%\n",
      "Epoch  5, CIFAR-10 Batch 5:  Loss: 1.7, Accuracy: 47.5%\n",
      "Epoch  6, CIFAR-10 Batch 1:  Loss: 1.73, Accuracy: 50.0%\n",
      "Epoch  6, CIFAR-10 Batch 2:  Loss: 1.62, Accuracy: 50.0%\n",
      "Epoch  6, CIFAR-10 Batch 3:  Loss: 1.55, Accuracy: 50.0%\n",
      "Epoch  6, CIFAR-10 Batch 4:  Loss: 1.51, Accuracy: 50.0%\n",
      "Epoch  6, CIFAR-10 Batch 5:  Loss: 1.73, Accuracy: 37.5%\n",
      "Epoch  7, CIFAR-10 Batch 1:  Loss: 1.67, Accuracy: 45.0%\n",
      "Epoch  7, CIFAR-10 Batch 2:  Loss: 1.51, Accuracy: 55.0%\n",
      "Epoch  7, CIFAR-10 Batch 3:  Loss: 1.5, Accuracy: 55.0%\n",
      "Epoch  7, CIFAR-10 Batch 4:  Loss: 1.45, Accuracy: 45.0%\n",
      "Epoch  7, CIFAR-10 Batch 5:  Loss: 1.64, Accuracy: 47.5%\n",
      "Epoch  8, CIFAR-10 Batch 1:  Loss: 1.75, Accuracy: 40.0%\n",
      "Epoch  8, CIFAR-10 Batch 2:  Loss: 1.49, Accuracy: 52.5%\n",
      "Epoch  8, CIFAR-10 Batch 3:  Loss: 1.46, Accuracy: 52.5%\n",
      "Epoch  8, CIFAR-10 Batch 4:  Loss: 1.4, Accuracy: 52.5%\n",
      "Epoch  8, CIFAR-10 Batch 5:  Loss: 1.53, Accuracy: 47.5%\n",
      "Epoch  9, CIFAR-10 Batch 1:  Loss: 1.56, Accuracy: 42.5%\n",
      "Epoch  9, CIFAR-10 Batch 2:  Loss: 1.43, Accuracy: 52.5%\n",
      "Epoch  9, CIFAR-10 Batch 3:  Loss: 1.32, Accuracy: 55.0%\n",
      "Epoch  9, CIFAR-10 Batch 4:  Loss: 1.33, Accuracy: 47.5%\n",
      "Epoch  9, CIFAR-10 Batch 5:  Loss: 1.47, Accuracy: 50.0%\n",
      "Epoch 10, CIFAR-10 Batch 1:  Loss: 1.47, Accuracy: 42.5%\n",
      "Epoch 10, CIFAR-10 Batch 2:  Loss: 1.4, Accuracy: 50.0%\n",
      "Epoch 10, CIFAR-10 Batch 3:  Loss: 1.28, Accuracy: 52.5%\n",
      "Epoch 10, CIFAR-10 Batch 4:  Loss: 1.26, Accuracy: 57.5%\n",
      "Epoch 10, CIFAR-10 Batch 5:  Loss: 1.42, Accuracy: 60.0%\n",
      "Epoch 11, CIFAR-10 Batch 1:  Loss: 1.43, Accuracy: 57.5%\n",
      "Epoch 11, CIFAR-10 Batch 2:  Loss: 1.35, Accuracy: 52.5%\n",
      "Epoch 11, CIFAR-10 Batch 3:  Loss: 1.21, Accuracy: 60.0%\n",
      "Epoch 11, CIFAR-10 Batch 4:  Loss: 1.26, Accuracy: 55.0%\n",
      "Epoch 11, CIFAR-10 Batch 5:  Loss: 1.38, Accuracy: 62.5%\n",
      "Epoch 12, CIFAR-10 Batch 1:  Loss: 1.47, Accuracy: 47.5%\n",
      "Epoch 12, CIFAR-10 Batch 2:  Loss: 1.32, Accuracy: 57.5%\n",
      "Epoch 12, CIFAR-10 Batch 3:  Loss: 1.17, Accuracy: 60.0%\n",
      "Epoch 12, CIFAR-10 Batch 4:  Loss: 1.25, Accuracy: 50.0%\n",
      "Epoch 12, CIFAR-10 Batch 5:  Loss: 1.38, Accuracy: 57.5%\n",
      "Epoch 13, CIFAR-10 Batch 1:  Loss: 1.48, Accuracy: 55.0%\n",
      "Epoch 13, CIFAR-10 Batch 2:  Loss: 1.23, Accuracy: 47.5%\n",
      "Epoch 13, CIFAR-10 Batch 3:  Loss: 1.16, Accuracy: 62.5%\n",
      "Epoch 13, CIFAR-10 Batch 4:  Loss: 1.21, Accuracy: 62.5%\n",
      "Epoch 13, CIFAR-10 Batch 5:  Loss: 1.36, Accuracy: 62.5%\n",
      "Epoch 14, CIFAR-10 Batch 1:  Loss: 1.33, Accuracy: 60.0%\n",
      "Epoch 14, CIFAR-10 Batch 2:  Loss: 1.2, Accuracy: 52.5%\n",
      "Epoch 14, CIFAR-10 Batch 3:  Loss: 1.17, Accuracy: 60.0%\n",
      "Epoch 14, CIFAR-10 Batch 4:  Loss: 1.2, Accuracy: 62.5%\n",
      "Epoch 14, CIFAR-10 Batch 5:  Loss: 1.4, Accuracy: 50.0%\n",
      "Epoch 15, CIFAR-10 Batch 1:  Loss: 1.36, Accuracy: 57.5%\n",
      "Epoch 15, CIFAR-10 Batch 2:  Loss: 1.17, Accuracy: 60.0%\n",
      "Epoch 15, CIFAR-10 Batch 3:  Loss: 1.1, Accuracy: 70.0%\n",
      "Epoch 15, CIFAR-10 Batch 4:  Loss: 1.18, Accuracy: 65.0%\n",
      "Epoch 15, CIFAR-10 Batch 5:  Loss: 1.29, Accuracy: 67.5%\n",
      "Epoch 16, CIFAR-10 Batch 1:  Loss: 1.28, Accuracy: 57.5%\n",
      "Epoch 16, CIFAR-10 Batch 2:  Loss: 1.13, Accuracy: 52.5%\n",
      "Epoch 16, CIFAR-10 Batch 3:  Loss: 1.09, Accuracy: 67.5%\n",
      "Epoch 16, CIFAR-10 Batch 4:  Loss: 1.15, Accuracy: 60.0%\n",
      "Epoch 16, CIFAR-10 Batch 5:  Loss: 1.2, Accuracy: 65.0%\n",
      "Epoch 17, CIFAR-10 Batch 1:  Loss: 1.25, Accuracy: 62.5%\n",
      "Epoch 17, CIFAR-10 Batch 2:  Loss: 1.13, Accuracy: 65.0%\n",
      "Epoch 17, CIFAR-10 Batch 3:  Loss: 1.04, Accuracy: 70.0%\n",
      "Epoch 17, CIFAR-10 Batch 4:  Loss: 1.12, Accuracy: 62.5%\n",
      "Epoch 17, CIFAR-10 Batch 5:  Loss: 1.19, Accuracy: 67.5%\n",
      "Epoch 18, CIFAR-10 Batch 1:  Loss: 1.3, Accuracy: 60.0%\n",
      "Epoch 18, CIFAR-10 Batch 2:  Loss: 1.08, Accuracy: 65.0%\n",
      "Epoch 18, CIFAR-10 Batch 3:  Loss: 0.991, Accuracy: 75.0%\n",
      "Epoch 18, CIFAR-10 Batch 4:  Loss: 1.07, Accuracy: 70.0%\n",
      "Epoch 18, CIFAR-10 Batch 5:  Loss: 1.09, Accuracy: 72.5%\n",
      "Epoch 19, CIFAR-10 Batch 1:  Loss: 1.37, Accuracy: 62.5%\n",
      "Epoch 19, CIFAR-10 Batch 2:  Loss: 1.08, Accuracy: 65.0%\n",
      "Epoch 19, CIFAR-10 Batch 3:  Loss: 0.975, Accuracy: 75.0%\n",
      "Epoch 19, CIFAR-10 Batch 4:  Loss: 1.1, Accuracy: 67.5%\n",
      "Epoch 19, CIFAR-10 Batch 5:  Loss: 1.09, Accuracy: 77.5%\n",
      "Epoch 20, CIFAR-10 Batch 1:  Loss: 1.25, Accuracy: 57.5%\n",
      "Epoch 20, CIFAR-10 Batch 2:  Loss: 1.09, Accuracy: 62.5%\n",
      "Epoch 20, CIFAR-10 Batch 3:  Loss: 0.941, Accuracy: 80.0%\n",
      "Epoch 20, CIFAR-10 Batch 4:  Loss: 1.06, Accuracy: 72.5%\n",
      "Epoch 20, CIFAR-10 Batch 5:  Loss: 1.11, Accuracy: 65.0%\n",
      "Epoch 21, CIFAR-10 Batch 1:  Loss: 1.21, Accuracy: 65.0%\n",
      "Epoch 21, CIFAR-10 Batch 2:  Loss: 1.04, Accuracy: 67.5%\n",
      "Epoch 21, CIFAR-10 Batch 3:  Loss: 0.936, Accuracy: 75.0%\n",
      "Epoch 21, CIFAR-10 Batch 4:  Loss: 1.05, Accuracy: 72.5%\n",
      "Epoch 21, CIFAR-10 Batch 5:  Loss: 1.05, Accuracy: 70.0%\n",
      "Epoch 22, CIFAR-10 Batch 1:  Loss: 1.21, Accuracy: 60.0%\n",
      "Epoch 22, CIFAR-10 Batch 2:  Loss: 1.01, Accuracy: 70.0%\n",
      "Epoch 22, CIFAR-10 Batch 3:  Loss: 0.898, Accuracy: 72.5%\n",
      "Epoch 22, CIFAR-10 Batch 4:  Loss: 1.08, Accuracy: 72.5%\n",
      "Epoch 22, CIFAR-10 Batch 5:  Loss: 1.05, Accuracy: 75.0%\n",
      "Epoch 23, CIFAR-10 Batch 1:  Loss: 1.16, Accuracy: 60.0%\n",
      "Epoch 23, CIFAR-10 Batch 2:  Loss: 1.01, Accuracy: 65.0%\n",
      "Epoch 23, CIFAR-10 Batch 3:  Loss: 0.903, Accuracy: 75.0%\n",
      "Epoch 23, CIFAR-10 Batch 4:  Loss: 1.02, Accuracy: 72.5%\n",
      "Epoch 23, CIFAR-10 Batch 5:  Loss: 1.01, Accuracy: 75.0%\n",
      "Epoch 24, CIFAR-10 Batch 1:  Loss: 1.22, Accuracy: 62.5%\n",
      "Epoch 24, CIFAR-10 Batch 2:  Loss: 1.0, Accuracy: 70.0%\n",
      "Epoch 24, CIFAR-10 Batch 3:  Loss: 0.867, Accuracy: 80.0%\n",
      "Epoch 24, CIFAR-10 Batch 4:  Loss: 0.98, Accuracy: 75.0%\n",
      "Epoch 24, CIFAR-10 Batch 5:  Loss: 1.02, Accuracy: 70.0%\n",
      "Epoch 25, CIFAR-10 Batch 1:  Loss: 1.12, Accuracy: 67.5%\n",
      "Epoch 25, CIFAR-10 Batch 2:  Loss: 1.0, Accuracy: 67.5%\n",
      "Epoch 25, CIFAR-10 Batch 3:  Loss: 0.885, Accuracy: 77.5%\n",
      "Epoch 25, CIFAR-10 Batch 4:  Loss: 1.01, Accuracy: 67.5%\n",
      "Epoch 25, CIFAR-10 Batch 5:  Loss: 1.03, Accuracy: 70.0%\n",
      "Epoch 26, CIFAR-10 Batch 1:  Loss: 1.14, Accuracy: 60.0%\n",
      "Epoch 26, CIFAR-10 Batch 2:  Loss: 0.956, Accuracy: 70.0%\n",
      "Epoch 26, CIFAR-10 Batch 3:  Loss: 0.883, Accuracy: 75.0%\n",
      "Epoch 26, CIFAR-10 Batch 4:  Loss: 0.97, Accuracy: 77.5%\n",
      "Epoch 26, CIFAR-10 Batch 5:  Loss: 0.945, Accuracy: 80.0%\n",
      "Epoch 27, CIFAR-10 Batch 1:  Loss: 1.19, Accuracy: 57.5%\n",
      "Epoch 27, CIFAR-10 Batch 2:  Loss: 0.938, Accuracy: 72.5%\n",
      "Epoch 27, CIFAR-10 Batch 3:  Loss: 0.829, Accuracy: 80.0%\n",
      "Epoch 27, CIFAR-10 Batch 4:  Loss: 0.937, Accuracy: 75.0%\n",
      "Epoch 27, CIFAR-10 Batch 5:  Loss: 1.01, Accuracy: 75.0%\n",
      "Epoch 28, CIFAR-10 Batch 1:  Loss: 1.13, Accuracy: 62.5%\n",
      "Epoch 28, CIFAR-10 Batch 2:  Loss: 0.939, Accuracy: 72.5%\n",
      "Epoch 28, CIFAR-10 Batch 3:  Loss: 0.842, Accuracy: 82.5%\n",
      "Epoch 28, CIFAR-10 Batch 4:  Loss: 0.943, Accuracy: 70.0%\n",
      "Epoch 28, CIFAR-10 Batch 5:  Loss: 0.933, Accuracy: 75.0%\n",
      "Epoch 29, CIFAR-10 Batch 1:  Loss: 1.14, Accuracy: 65.0%\n",
      "Epoch 29, CIFAR-10 Batch 2:  Loss: 0.931, Accuracy: 72.5%\n",
      "Epoch 29, CIFAR-10 Batch 3:  Loss: 0.819, Accuracy: 85.0%\n",
      "Epoch 29, CIFAR-10 Batch 4:  Loss: 0.959, Accuracy: 77.5%\n",
      "Epoch 29, CIFAR-10 Batch 5:  Loss: 0.918, Accuracy: 80.0%\n",
      "Epoch 30, CIFAR-10 Batch 1:  Loss: 1.14, Accuracy: 65.0%\n",
      "Epoch 30, CIFAR-10 Batch 2:  Loss: 0.905, Accuracy: 72.5%\n",
      "Epoch 30, CIFAR-10 Batch 3:  Loss: 0.926, Accuracy: 67.5%\n",
      "Epoch 30, CIFAR-10 Batch 4:  Loss: 0.938, Accuracy: 70.0%\n",
      "Epoch 30, CIFAR-10 Batch 5:  Loss: 0.947, Accuracy: 80.0%\n",
      "Epoch 31, CIFAR-10 Batch 1:  Loss: 1.17, Accuracy: 65.0%\n",
      "Epoch 31, CIFAR-10 Batch 2:  Loss: 0.893, Accuracy: 72.5%\n",
      "Epoch 31, CIFAR-10 Batch 3:  Loss: 0.821, Accuracy: 80.0%\n",
      "Epoch 31, CIFAR-10 Batch 4:  Loss: 0.91, Accuracy: 70.0%\n",
      "Epoch 31, CIFAR-10 Batch 5:  Loss: 0.901, Accuracy: 82.5%\n",
      "Epoch 32, CIFAR-10 Batch 1:  Loss: 1.17, Accuracy: 60.0%\n",
      "Epoch 32, CIFAR-10 Batch 2:  Loss: 0.881, Accuracy: 75.0%\n",
      "Epoch 32, CIFAR-10 Batch 3:  Loss: 0.804, Accuracy: 82.5%\n",
      "Epoch 32, CIFAR-10 Batch 4:  Loss: 0.905, Accuracy: 75.0%\n",
      "Epoch 32, CIFAR-10 Batch 5:  Loss: 0.889, Accuracy: 80.0%\n",
      "Epoch 33, CIFAR-10 Batch 1:  Loss: 1.06, Accuracy: 62.5%\n",
      "Epoch 33, CIFAR-10 Batch 2:  Loss: 0.835, Accuracy: 77.5%\n",
      "Epoch 33, CIFAR-10 Batch 3:  Loss: 0.807, Accuracy: 82.5%\n",
      "Epoch 33, CIFAR-10 Batch 4:  Loss: 0.859, Accuracy: 75.0%\n",
      "Epoch 33, CIFAR-10 Batch 5:  Loss: 0.913, Accuracy: 72.5%\n",
      "Epoch 34, CIFAR-10 Batch 1:  Loss: 1.06, Accuracy: 67.5%\n",
      "Epoch 34, CIFAR-10 Batch 2:  Loss: 0.849, Accuracy: 75.0%\n",
      "Epoch 34, CIFAR-10 Batch 3:  Loss: 0.811, Accuracy: 77.5%\n",
      "Epoch 34, CIFAR-10 Batch 4:  Loss: 0.912, Accuracy: 70.0%\n",
      "Epoch 34, CIFAR-10 Batch 5:  Loss: 0.916, Accuracy: 77.5%\n",
      "Epoch 35, CIFAR-10 Batch 1:  Loss: 1.14, Accuracy: 62.5%\n",
      "Epoch 35, CIFAR-10 Batch 2:  Loss: 0.857, Accuracy: 72.5%\n",
      "Epoch 35, CIFAR-10 Batch 3:  Loss: 0.798, Accuracy: 80.0%\n",
      "Epoch 35, CIFAR-10 Batch 4:  Loss: 0.992, Accuracy: 72.5%\n",
      "Epoch 35, CIFAR-10 Batch 5:  Loss: 0.85, Accuracy: 85.0%\n",
      "Epoch 36, CIFAR-10 Batch 1:  Loss: 1.06, Accuracy: 67.5%\n",
      "Epoch 36, CIFAR-10 Batch 2:  Loss: 0.842, Accuracy: 75.0%\n",
      "Epoch 36, CIFAR-10 Batch 3:  Loss: 0.805, Accuracy: 80.0%\n",
      "Epoch 36, CIFAR-10 Batch 4:  Loss: 0.9, Accuracy: 77.5%\n",
      "Epoch 36, CIFAR-10 Batch 5:  Loss: 0.851, Accuracy: 82.5%\n",
      "Epoch 37, CIFAR-10 Batch 1:  Loss: 1.19, Accuracy: 62.5%\n",
      "Epoch 37, CIFAR-10 Batch 2:  Loss: 0.859, Accuracy: 70.0%\n",
      "Epoch 37, CIFAR-10 Batch 3:  Loss: 0.753, Accuracy: 85.0%\n",
      "Epoch 37, CIFAR-10 Batch 4:  Loss: 1.04, Accuracy: 70.0%\n",
      "Epoch 37, CIFAR-10 Batch 5:  Loss: 0.938, Accuracy: 77.5%\n",
      "Epoch 38, CIFAR-10 Batch 1:  Loss: 1.04, Accuracy: 72.5%\n",
      "Epoch 38, CIFAR-10 Batch 2:  Loss: 0.817, Accuracy: 72.5%\n",
      "Epoch 38, CIFAR-10 Batch 3:  Loss: 0.763, Accuracy: 82.5%\n",
      "Epoch 38, CIFAR-10 Batch 4:  Loss: 0.857, Accuracy: 75.0%\n",
      "Epoch 38, CIFAR-10 Batch 5:  Loss: 0.804, Accuracy: 82.5%\n",
      "Epoch 39, CIFAR-10 Batch 1:  Loss: 1.01, Accuracy: 75.0%\n",
      "Epoch 39, CIFAR-10 Batch 2:  Loss: 0.881, Accuracy: 72.5%\n",
      "Epoch 39, CIFAR-10 Batch 3:  Loss: 0.779, Accuracy: 82.5%\n",
      "Epoch 39, CIFAR-10 Batch 4:  Loss: 0.887, Accuracy: 80.0%\n",
      "Epoch 39, CIFAR-10 Batch 5:  Loss: 0.938, Accuracy: 72.5%\n",
      "Epoch 40, CIFAR-10 Batch 1:  Loss: 1.07, Accuracy: 70.0%\n",
      "Epoch 40, CIFAR-10 Batch 2:  Loss: 0.81, Accuracy: 77.5%\n",
      "Epoch 40, CIFAR-10 Batch 3:  Loss: 0.714, Accuracy: 85.0%\n",
      "Epoch 40, CIFAR-10 Batch 4:  Loss: 0.929, Accuracy: 72.5%\n",
      "Epoch 40, CIFAR-10 Batch 5:  Loss: 0.779, Accuracy: 90.0%\n",
      "Epoch 41, CIFAR-10 Batch 1:  Loss: 0.974, Accuracy: 72.5%\n",
      "Epoch 41, CIFAR-10 Batch 2:  Loss: 0.803, Accuracy: 70.0%\n",
      "Epoch 41, CIFAR-10 Batch 3:  Loss: 0.729, Accuracy: 85.0%\n",
      "Epoch 41, CIFAR-10 Batch 4:  Loss: 0.865, Accuracy: 77.5%\n",
      "Epoch 41, CIFAR-10 Batch 5:  Loss: 0.775, Accuracy: 82.5%\n",
      "Epoch 42, CIFAR-10 Batch 1:  Loss: 0.956, Accuracy: 65.0%\n",
      "Epoch 42, CIFAR-10 Batch 2:  Loss: 0.795, Accuracy: 75.0%\n",
      "Epoch 42, CIFAR-10 Batch 3:  Loss: 0.809, Accuracy: 82.5%\n",
      "Epoch 42, CIFAR-10 Batch 4:  Loss: 0.848, Accuracy: 75.0%\n",
      "Epoch 42, CIFAR-10 Batch 5:  Loss: 0.8, Accuracy: 90.0%\n",
      "Epoch 43, CIFAR-10 Batch 1:  Loss: 0.949, Accuracy: 72.5%\n",
      "Epoch 43, CIFAR-10 Batch 2:  Loss: 0.784, Accuracy: 75.0%\n",
      "Epoch 43, CIFAR-10 Batch 3:  Loss: 0.709, Accuracy: 85.0%\n",
      "Epoch 43, CIFAR-10 Batch 4:  Loss: 0.808, Accuracy: 75.0%\n",
      "Epoch 43, CIFAR-10 Batch 5:  Loss: 0.863, Accuracy: 75.0%\n",
      "Epoch 44, CIFAR-10 Batch 1:  Loss: 0.988, Accuracy: 72.5%\n",
      "Epoch 44, CIFAR-10 Batch 2:  Loss: 0.801, Accuracy: 70.0%\n",
      "Epoch 44, CIFAR-10 Batch 3:  Loss: 0.707, Accuracy: 80.0%\n",
      "Epoch 44, CIFAR-10 Batch 4:  Loss: 0.839, Accuracy: 77.5%\n",
      "Epoch 44, CIFAR-10 Batch 5:  Loss: 0.771, Accuracy: 90.0%\n",
      "Epoch 45, CIFAR-10 Batch 1:  Loss: 0.948, Accuracy: 65.0%\n",
      "Epoch 45, CIFAR-10 Batch 2:  Loss: 0.844, Accuracy: 72.5%\n",
      "Epoch 45, CIFAR-10 Batch 3:  Loss: 0.758, Accuracy: 82.5%\n",
      "Epoch 45, CIFAR-10 Batch 4:  Loss: 0.922, Accuracy: 75.0%\n",
      "Epoch 45, CIFAR-10 Batch 5:  Loss: 0.745, Accuracy: 90.0%\n",
      "Epoch 46, CIFAR-10 Batch 1:  Loss: 0.948, Accuracy: 70.0%\n",
      "Epoch 46, CIFAR-10 Batch 2:  Loss: 0.79, Accuracy: 75.0%\n",
      "Epoch 46, CIFAR-10 Batch 3:  Loss: 0.705, Accuracy: 87.5%\n",
      "Epoch 46, CIFAR-10 Batch 4:  Loss: 0.93, Accuracy: 72.5%\n",
      "Epoch 46, CIFAR-10 Batch 5:  Loss: 0.723, Accuracy: 85.0%\n",
      "Epoch 47, CIFAR-10 Batch 1:  Loss: 0.902, Accuracy: 75.0%\n",
      "Epoch 47, CIFAR-10 Batch 2:  Loss: 0.829, Accuracy: 72.5%\n",
      "Epoch 47, CIFAR-10 Batch 3:  Loss: 0.674, Accuracy: 87.5%\n",
      "Epoch 47, CIFAR-10 Batch 4:  Loss: 0.827, Accuracy: 77.5%\n",
      "Epoch 47, CIFAR-10 Batch 5:  Loss: 0.719, Accuracy: 90.0%\n",
      "Epoch 48, CIFAR-10 Batch 1:  Loss: 0.968, Accuracy: 67.5%\n",
      "Epoch 48, CIFAR-10 Batch 2:  Loss: 0.715, Accuracy: 80.0%\n",
      "Epoch 48, CIFAR-10 Batch 3:  Loss: 0.703, Accuracy: 87.5%\n",
      "Epoch 48, CIFAR-10 Batch 4:  Loss: 0.857, Accuracy: 77.5%\n",
      "Epoch 48, CIFAR-10 Batch 5:  Loss: 0.806, Accuracy: 85.0%\n",
      "Epoch 49, CIFAR-10 Batch 1:  Loss: 0.905, Accuracy: 70.0%\n",
      "Epoch 49, CIFAR-10 Batch 2:  Loss: 0.734, Accuracy: 75.0%\n",
      "Epoch 49, CIFAR-10 Batch 3:  Loss: 0.663, Accuracy: 87.5%\n",
      "Epoch 49, CIFAR-10 Batch 4:  Loss: 0.845, Accuracy: 77.5%\n",
      "Epoch 49, CIFAR-10 Batch 5:  Loss: 0.768, Accuracy: 85.0%\n",
      "Epoch 50, CIFAR-10 Batch 1:  Loss: 0.902, Accuracy: 70.0%\n",
      "Epoch 50, CIFAR-10 Batch 2:  Loss: 0.766, Accuracy: 72.5%\n",
      "Epoch 50, CIFAR-10 Batch 3:  Loss: 0.694, Accuracy: 85.0%\n",
      "Epoch 50, CIFAR-10 Batch 4:  Loss: 0.827, Accuracy: 77.5%\n",
      "Epoch 50, CIFAR-10 Batch 5:  Loss: 0.88, Accuracy: 75.0%\n",
      "Epoch 51, CIFAR-10 Batch 1:  Loss: 1.01, Accuracy: 60.0%\n",
      "Epoch 51, CIFAR-10 Batch 2:  Loss: 0.819, Accuracy: 75.0%\n",
      "Epoch 51, CIFAR-10 Batch 3:  Loss: 0.761, Accuracy: 85.0%\n",
      "Epoch 51, CIFAR-10 Batch 4:  Loss: 0.77, Accuracy: 77.5%\n",
      "Epoch 51, CIFAR-10 Batch 5:  Loss: 0.765, Accuracy: 82.5%\n",
      "Epoch 52, CIFAR-10 Batch 1:  Loss: 0.912, Accuracy: 70.0%\n",
      "Epoch 52, CIFAR-10 Batch 2:  Loss: 0.93, Accuracy: 62.5%\n",
      "Epoch 52, CIFAR-10 Batch 3:  Loss: 0.787, Accuracy: 77.5%\n",
      "Epoch 52, CIFAR-10 Batch 4:  Loss: 0.787, Accuracy: 75.0%\n",
      "Epoch 52, CIFAR-10 Batch 5:  Loss: 0.723, Accuracy: 90.0%\n",
      "Epoch 53, CIFAR-10 Batch 1:  Loss: 0.901, Accuracy: 72.5%\n",
      "Epoch 53, CIFAR-10 Batch 2:  Loss: 0.67, Accuracy: 82.5%\n",
      "Epoch 53, CIFAR-10 Batch 3:  Loss: 0.685, Accuracy: 77.5%\n",
      "Epoch 53, CIFAR-10 Batch 4:  Loss: 0.77, Accuracy: 80.0%\n",
      "Epoch 53, CIFAR-10 Batch 5:  Loss: 0.707, Accuracy: 90.0%\n",
      "Epoch 54, CIFAR-10 Batch 1:  Loss: 0.893, Accuracy: 72.5%\n",
      "Epoch 54, CIFAR-10 Batch 2:  Loss: 0.763, Accuracy: 77.5%\n",
      "Epoch 54, CIFAR-10 Batch 3:  Loss: 0.657, Accuracy: 90.0%\n",
      "Epoch 54, CIFAR-10 Batch 4:  Loss: 0.732, Accuracy: 77.5%\n",
      "Epoch 54, CIFAR-10 Batch 5:  Loss: 0.734, Accuracy: 87.5%\n",
      "Epoch 55, CIFAR-10 Batch 1:  Loss: 0.86, Accuracy: 72.5%\n",
      "Epoch 55, CIFAR-10 Batch 2:  Loss: 0.804, Accuracy: 77.5%\n",
      "Epoch 55, CIFAR-10 Batch 3:  Loss: 0.662, Accuracy: 82.5%\n",
      "Epoch 55, CIFAR-10 Batch 4:  Loss: 0.788, Accuracy: 77.5%\n",
      "Epoch 55, CIFAR-10 Batch 5:  Loss: 0.714, Accuracy: 90.0%\n",
      "Epoch 56, CIFAR-10 Batch 1:  Loss: 0.847, Accuracy: 72.5%\n",
      "Epoch 56, CIFAR-10 Batch 2:  Loss: 0.731, Accuracy: 77.5%\n",
      "Epoch 56, CIFAR-10 Batch 3:  Loss: 0.673, Accuracy: 82.5%\n",
      "Epoch 56, CIFAR-10 Batch 4:  Loss: 0.74, Accuracy: 80.0%\n",
      "Epoch 56, CIFAR-10 Batch 5:  Loss: 0.71, Accuracy: 85.0%\n",
      "Epoch 57, CIFAR-10 Batch 1:  Loss: 0.854, Accuracy: 75.0%\n",
      "Epoch 57, CIFAR-10 Batch 2:  Loss: 0.678, Accuracy: 75.0%\n",
      "Epoch 57, CIFAR-10 Batch 3:  Loss: 0.679, Accuracy: 82.5%\n",
      "Epoch 57, CIFAR-10 Batch 4:  Loss: 0.742, Accuracy: 77.5%\n",
      "Epoch 57, CIFAR-10 Batch 5:  Loss: 0.7, Accuracy: 87.5%\n",
      "Epoch 58, CIFAR-10 Batch 1:  Loss: 0.859, Accuracy: 75.0%\n",
      "Epoch 58, CIFAR-10 Batch 2:  Loss: 0.757, Accuracy: 75.0%\n",
      "Epoch 58, CIFAR-10 Batch 3:  Loss: 0.581, Accuracy: 95.0%\n",
      "Epoch 58, CIFAR-10 Batch 4:  Loss: 0.758, Accuracy: 75.0%\n",
      "Epoch 58, CIFAR-10 Batch 5:  Loss: 0.694, Accuracy: 82.5%\n",
      "Epoch 59, CIFAR-10 Batch 1:  Loss: 0.845, Accuracy: 72.5%\n",
      "Epoch 59, CIFAR-10 Batch 2:  Loss: 0.76, Accuracy: 70.0%\n",
      "Epoch 59, CIFAR-10 Batch 3:  Loss: 0.589, Accuracy: 87.5%\n",
      "Epoch 59, CIFAR-10 Batch 4:  Loss: 0.705, Accuracy: 80.0%\n",
      "Epoch 59, CIFAR-10 Batch 5:  Loss: 0.658, Accuracy: 90.0%\n",
      "Epoch 60, CIFAR-10 Batch 1:  Loss: 0.839, Accuracy: 72.5%\n",
      "Epoch 60, CIFAR-10 Batch 2:  Loss: 0.707, Accuracy: 80.0%\n",
      "Epoch 60, CIFAR-10 Batch 3:  Loss: 0.586, Accuracy: 92.5%\n",
      "Epoch 60, CIFAR-10 Batch 4:  Loss: 0.745, Accuracy: 80.0%\n",
      "Epoch 60, CIFAR-10 Batch 5:  Loss: 0.794, Accuracy: 80.0%\n",
      "Epoch 61, CIFAR-10 Batch 1:  Loss: 0.814, Accuracy: 72.5%\n",
      "Epoch 61, CIFAR-10 Batch 2:  Loss: 0.704, Accuracy: 77.5%\n",
      "Epoch 61, CIFAR-10 Batch 3:  Loss: 0.7, Accuracy: 80.0%\n",
      "Epoch 61, CIFAR-10 Batch 4:  Loss: 0.722, Accuracy: 82.5%\n",
      "Epoch 61, CIFAR-10 Batch 5:  Loss: 0.668, Accuracy: 90.0%\n",
      "Epoch 62, CIFAR-10 Batch 1:  Loss: 0.792, Accuracy: 82.5%\n",
      "Epoch 62, CIFAR-10 Batch 2:  Loss: 0.718, Accuracy: 72.5%\n",
      "Epoch 62, CIFAR-10 Batch 3:  Loss: 0.651, Accuracy: 87.5%\n",
      "Epoch 62, CIFAR-10 Batch 4:  Loss: 0.722, Accuracy: 82.5%\n",
      "Epoch 62, CIFAR-10 Batch 5:  Loss: 0.752, Accuracy: 82.5%\n",
      "Epoch 63, CIFAR-10 Batch 1:  Loss: 0.836, Accuracy: 75.0%\n",
      "Epoch 63, CIFAR-10 Batch 2:  Loss: 0.727, Accuracy: 77.5%\n",
      "Epoch 63, CIFAR-10 Batch 3:  Loss: 0.589, Accuracy: 90.0%\n",
      "Epoch 63, CIFAR-10 Batch 4:  Loss: 0.687, Accuracy: 82.5%\n",
      "Epoch 63, CIFAR-10 Batch 5:  Loss: 0.7, Accuracy: 85.0%\n",
      "Epoch 64, CIFAR-10 Batch 1:  Loss: 0.803, Accuracy: 75.0%\n",
      "Epoch 64, CIFAR-10 Batch 2:  Loss: 0.706, Accuracy: 80.0%\n",
      "Epoch 64, CIFAR-10 Batch 3:  Loss: 0.619, Accuracy: 87.5%\n",
      "Epoch 64, CIFAR-10 Batch 4:  Loss: 0.742, Accuracy: 82.5%\n",
      "Epoch 64, CIFAR-10 Batch 5:  Loss: 0.642, Accuracy: 92.5%\n",
      "Epoch 65, CIFAR-10 Batch 1:  Loss: 0.788, Accuracy: 75.0%\n",
      "Epoch 65, CIFAR-10 Batch 2:  Loss: 0.758, Accuracy: 65.0%\n",
      "Epoch 65, CIFAR-10 Batch 3:  Loss: 0.576, Accuracy: 92.5%\n",
      "Epoch 65, CIFAR-10 Batch 4:  Loss: 0.74, Accuracy: 80.0%\n",
      "Epoch 65, CIFAR-10 Batch 5:  Loss: 0.646, Accuracy: 90.0%\n",
      "Epoch 66, CIFAR-10 Batch 1:  Loss: 0.771, Accuracy: 72.5%\n",
      "Epoch 66, CIFAR-10 Batch 2:  Loss: 0.671, Accuracy: 72.5%\n",
      "Epoch 66, CIFAR-10 Batch 3:  Loss: 0.606, Accuracy: 90.0%\n",
      "Epoch 66, CIFAR-10 Batch 4:  Loss: 0.677, Accuracy: 80.0%\n",
      "Epoch 66, CIFAR-10 Batch 5:  Loss: 0.712, Accuracy: 85.0%\n",
      "Epoch 67, CIFAR-10 Batch 1:  Loss: 0.763, Accuracy: 77.5%\n",
      "Epoch 67, CIFAR-10 Batch 2:  Loss: 0.677, Accuracy: 75.0%\n",
      "Epoch 67, CIFAR-10 Batch 3:  Loss: 0.617, Accuracy: 92.5%\n",
      "Epoch 67, CIFAR-10 Batch 4:  Loss: 0.671, Accuracy: 80.0%\n",
      "Epoch 67, CIFAR-10 Batch 5:  Loss: 0.641, Accuracy: 90.0%\n",
      "Epoch 68, CIFAR-10 Batch 1:  Loss: 0.792, Accuracy: 72.5%\n",
      "Epoch 68, CIFAR-10 Batch 2:  Loss: 0.645, Accuracy: 82.5%\n",
      "Epoch 68, CIFAR-10 Batch 3:  Loss: 0.613, Accuracy: 90.0%\n",
      "Epoch 68, CIFAR-10 Batch 4:  Loss: 0.744, Accuracy: 82.5%\n",
      "Epoch 68, CIFAR-10 Batch 5:  Loss: 0.632, Accuracy: 92.5%\n",
      "Epoch 69, CIFAR-10 Batch 1:  Loss: 0.752, Accuracy: 72.5%\n",
      "Epoch 69, CIFAR-10 Batch 2:  Loss: 0.632, Accuracy: 82.5%\n",
      "Epoch 69, CIFAR-10 Batch 3:  Loss: 0.649, Accuracy: 90.0%\n",
      "Epoch 69, CIFAR-10 Batch 4:  Loss: 0.735, Accuracy: 85.0%\n",
      "Epoch 69, CIFAR-10 Batch 5:  Loss: 0.644, Accuracy: 92.5%\n",
      "Epoch 70, CIFAR-10 Batch 1:  Loss: 0.754, Accuracy: 80.0%\n",
      "Epoch 70, CIFAR-10 Batch 2:  Loss: 0.624, Accuracy: 80.0%\n",
      "Epoch 70, CIFAR-10 Batch 3:  Loss: 0.572, Accuracy: 92.5%\n",
      "Epoch 70, CIFAR-10 Batch 4:  Loss: 0.738, Accuracy: 82.5%\n",
      "Epoch 70, CIFAR-10 Batch 5:  Loss: 0.673, Accuracy: 92.5%\n",
      "Epoch 71, CIFAR-10 Batch 1:  Loss: 0.746, Accuracy: 82.5%\n",
      "Epoch 71, CIFAR-10 Batch 2:  Loss: 0.637, Accuracy: 87.5%\n",
      "Epoch 71, CIFAR-10 Batch 3:  Loss: 0.583, Accuracy: 92.5%\n",
      "Epoch 71, CIFAR-10 Batch 4:  Loss: 0.705, Accuracy: 82.5%\n",
      "Epoch 71, CIFAR-10 Batch 5:  Loss: 0.74, Accuracy: 80.0%\n",
      "Epoch 72, CIFAR-10 Batch 1:  Loss: 0.71, Accuracy: 80.0%\n",
      "Epoch 72, CIFAR-10 Batch 2:  Loss: 0.628, Accuracy: 90.0%\n",
      "Epoch 72, CIFAR-10 Batch 3:  Loss: 0.562, Accuracy: 92.5%\n",
      "Epoch 72, CIFAR-10 Batch 4:  Loss: 0.654, Accuracy: 77.5%\n",
      "Epoch 72, CIFAR-10 Batch 5:  Loss: 0.606, Accuracy: 92.5%\n",
      "Epoch 73, CIFAR-10 Batch 1:  Loss: 0.749, Accuracy: 82.5%\n",
      "Epoch 73, CIFAR-10 Batch 2:  Loss: 0.643, Accuracy: 82.5%\n",
      "Epoch 73, CIFAR-10 Batch 3:  Loss: 0.595, Accuracy: 87.5%\n",
      "Epoch 73, CIFAR-10 Batch 4:  Loss: 0.687, Accuracy: 82.5%\n",
      "Epoch 73, CIFAR-10 Batch 5:  Loss: 0.625, Accuracy: 90.0%\n",
      "Epoch 74, CIFAR-10 Batch 1:  Loss: 0.714, Accuracy: 80.0%\n",
      "Epoch 74, CIFAR-10 Batch 2:  Loss: 0.602, Accuracy: 85.0%\n",
      "Epoch 74, CIFAR-10 Batch 3:  Loss: 0.523, Accuracy: 92.5%\n",
      "Epoch 74, CIFAR-10 Batch 4:  Loss: 0.651, Accuracy: 85.0%\n",
      "Epoch 74, CIFAR-10 Batch 5:  Loss: 0.599, Accuracy: 90.0%\n",
      "Epoch 75, CIFAR-10 Batch 1:  Loss: 0.706, Accuracy: 77.5%\n",
      "Epoch 75, CIFAR-10 Batch 2:  Loss: 0.574, Accuracy: 85.0%\n",
      "Epoch 75, CIFAR-10 Batch 3:  Loss: 0.567, Accuracy: 90.0%\n",
      "Epoch 75, CIFAR-10 Batch 4:  Loss: 0.661, Accuracy: 82.5%\n",
      "Epoch 75, CIFAR-10 Batch 5:  Loss: 0.575, Accuracy: 92.5%\n",
      "Epoch 76, CIFAR-10 Batch 1:  Loss: 0.692, Accuracy: 80.0%\n",
      "Epoch 76, CIFAR-10 Batch 2:  Loss: 0.624, Accuracy: 85.0%\n",
      "Epoch 76, CIFAR-10 Batch 3:  Loss: 0.572, Accuracy: 90.0%\n",
      "Epoch 76, CIFAR-10 Batch 4:  Loss: 0.656, Accuracy: 82.5%\n",
      "Epoch 76, CIFAR-10 Batch 5:  Loss: 0.618, Accuracy: 87.5%\n",
      "Epoch 77, CIFAR-10 Batch 1:  Loss: 0.705, Accuracy: 80.0%\n",
      "Epoch 77, CIFAR-10 Batch 2:  Loss: 0.637, Accuracy: 82.5%\n",
      "Epoch 77, CIFAR-10 Batch 3:  Loss: 0.535, Accuracy: 92.5%\n",
      "Epoch 77, CIFAR-10 Batch 4:  Loss: 0.62, Accuracy: 82.5%\n",
      "Epoch 77, CIFAR-10 Batch 5:  Loss: 0.578, Accuracy: 90.0%\n",
      "Epoch 78, CIFAR-10 Batch 1:  Loss: 0.7, Accuracy: 85.0%\n",
      "Epoch 78, CIFAR-10 Batch 2:  Loss: 0.587, Accuracy: 87.5%\n",
      "Epoch 78, CIFAR-10 Batch 3:  Loss: 0.554, Accuracy: 92.5%\n",
      "Epoch 78, CIFAR-10 Batch 4:  Loss: 0.636, Accuracy: 82.5%\n",
      "Epoch 78, CIFAR-10 Batch 5:  Loss: 0.599, Accuracy: 90.0%\n",
      "Epoch 79, CIFAR-10 Batch 1:  Loss: 0.687, Accuracy: 80.0%\n",
      "Epoch 79, CIFAR-10 Batch 2:  Loss: 0.65, Accuracy: 82.5%\n",
      "Epoch 79, CIFAR-10 Batch 3:  Loss: 0.573, Accuracy: 92.5%\n",
      "Epoch 79, CIFAR-10 Batch 4:  Loss: 0.606, Accuracy: 82.5%\n",
      "Epoch 79, CIFAR-10 Batch 5:  Loss: 0.56, Accuracy: 92.5%\n",
      "Epoch 80, CIFAR-10 Batch 1:  Loss: 0.728, Accuracy: 77.5%\n",
      "Epoch 80, CIFAR-10 Batch 2:  Loss: 0.677, Accuracy: 77.5%\n",
      "Epoch 80, CIFAR-10 Batch 3:  Loss: 0.523, Accuracy: 92.5%\n",
      "Epoch 80, CIFAR-10 Batch 4:  Loss: 0.635, Accuracy: 82.5%\n",
      "Epoch 80, CIFAR-10 Batch 5:  Loss: 0.55, Accuracy: 90.0%\n",
      "Epoch 81, CIFAR-10 Batch 1:  Loss: 0.735, Accuracy: 75.0%\n",
      "Epoch 81, CIFAR-10 Batch 2:  Loss: 0.561, Accuracy: 87.5%\n",
      "Epoch 81, CIFAR-10 Batch 3:  Loss: 0.52, Accuracy: 95.0%\n",
      "Epoch 81, CIFAR-10 Batch 4:  Loss: 0.798, Accuracy: 70.0%\n",
      "Epoch 81, CIFAR-10 Batch 5:  Loss: 0.593, Accuracy: 87.5%\n",
      "Epoch 82, CIFAR-10 Batch 1:  Loss: 0.671, Accuracy: 80.0%\n",
      "Epoch 82, CIFAR-10 Batch 2:  Loss: 0.604, Accuracy: 80.0%\n",
      "Epoch 82, CIFAR-10 Batch 3:  Loss: 0.513, Accuracy: 92.5%\n",
      "Epoch 82, CIFAR-10 Batch 4:  Loss: 0.606, Accuracy: 85.0%\n",
      "Epoch 82, CIFAR-10 Batch 5:  Loss: 0.541, Accuracy: 92.5%\n",
      "Epoch 83, CIFAR-10 Batch 1:  Loss: 0.659, Accuracy: 80.0%\n",
      "Epoch 83, CIFAR-10 Batch 2:  Loss: 0.565, Accuracy: 85.0%\n",
      "Epoch 83, CIFAR-10 Batch 3:  Loss: 0.5, Accuracy: 90.0%\n",
      "Epoch 83, CIFAR-10 Batch 4:  Loss: 0.626, Accuracy: 80.0%\n",
      "Epoch 83, CIFAR-10 Batch 5:  Loss: 0.555, Accuracy: 92.5%\n",
      "Epoch 84, CIFAR-10 Batch 1:  Loss: 0.699, Accuracy: 77.5%\n",
      "Epoch 84, CIFAR-10 Batch 2:  Loss: 0.616, Accuracy: 87.5%\n",
      "Epoch 84, CIFAR-10 Batch 3:  Loss: 0.527, Accuracy: 90.0%\n",
      "Epoch 84, CIFAR-10 Batch 4:  Loss: 0.592, Accuracy: 82.5%\n",
      "Epoch 84, CIFAR-10 Batch 5:  Loss: 0.549, Accuracy: 92.5%\n",
      "Epoch 85, CIFAR-10 Batch 1:  Loss: 0.642, Accuracy: 82.5%\n",
      "Epoch 85, CIFAR-10 Batch 2:  Loss: 0.559, Accuracy: 85.0%\n",
      "Epoch 85, CIFAR-10 Batch 3:  Loss: 0.516, Accuracy: 92.5%\n",
      "Epoch 85, CIFAR-10 Batch 4:  Loss: 0.612, Accuracy: 80.0%\n",
      "Epoch 85, CIFAR-10 Batch 5:  Loss: 0.549, Accuracy: 90.0%\n",
      "Epoch 86, CIFAR-10 Batch 1:  Loss: 0.653, Accuracy: 82.5%\n",
      "Epoch 86, CIFAR-10 Batch 2:  Loss: 0.652, Accuracy: 85.0%\n",
      "Epoch 86, CIFAR-10 Batch 3:  Loss: 0.53, Accuracy: 92.5%\n",
      "Epoch 86, CIFAR-10 Batch 4:  Loss: 0.58, Accuracy: 85.0%\n",
      "Epoch 86, CIFAR-10 Batch 5:  Loss: 0.56, Accuracy: 95.0%\n",
      "Epoch 87, CIFAR-10 Batch 1:  Loss: 0.639, Accuracy: 80.0%\n",
      "Epoch 87, CIFAR-10 Batch 2:  Loss: 0.547, Accuracy: 85.0%\n",
      "Epoch 87, CIFAR-10 Batch 3:  Loss: 0.502, Accuracy: 92.5%\n",
      "Epoch 87, CIFAR-10 Batch 4:  Loss: 0.676, Accuracy: 85.0%\n",
      "Epoch 87, CIFAR-10 Batch 5:  Loss: 0.598, Accuracy: 90.0%\n",
      "Epoch 88, CIFAR-10 Batch 1:  Loss: 0.626, Accuracy: 80.0%\n",
      "Epoch 88, CIFAR-10 Batch 2:  Loss: 0.586, Accuracy: 85.0%\n",
      "Epoch 88, CIFAR-10 Batch 3:  Loss: 0.58, Accuracy: 90.0%\n",
      "Epoch 88, CIFAR-10 Batch 4:  Loss: 0.625, Accuracy: 82.5%\n",
      "Epoch 88, CIFAR-10 Batch 5:  Loss: 0.615, Accuracy: 87.5%\n",
      "Epoch 89, CIFAR-10 Batch 1:  Loss: 0.635, Accuracy: 82.5%\n",
      "Epoch 89, CIFAR-10 Batch 2:  Loss: 0.639, Accuracy: 85.0%\n",
      "Epoch 89, CIFAR-10 Batch 3:  Loss: 0.558, Accuracy: 90.0%\n",
      "Epoch 89, CIFAR-10 Batch 4:  Loss: 0.608, Accuracy: 80.0%\n",
      "Epoch 89, CIFAR-10 Batch 5:  Loss: 0.578, Accuracy: 92.5%\n",
      "Epoch 90, CIFAR-10 Batch 1:  Loss: 0.612, Accuracy: 82.5%\n",
      "Epoch 90, CIFAR-10 Batch 2:  Loss: 0.685, Accuracy: 85.0%\n",
      "Epoch 90, CIFAR-10 Batch 3:  Loss: 0.509, Accuracy: 92.5%\n",
      "Epoch 90, CIFAR-10 Batch 4:  Loss: 0.573, Accuracy: 85.0%\n",
      "Epoch 90, CIFAR-10 Batch 5:  Loss: 0.635, Accuracy: 90.0%\n",
      "Epoch 91, CIFAR-10 Batch 1:  Loss: 0.66, Accuracy: 77.5%\n",
      "Epoch 91, CIFAR-10 Batch 2:  Loss: 0.617, Accuracy: 82.5%\n",
      "Epoch 91, CIFAR-10 Batch 3:  Loss: 0.493, Accuracy: 92.5%\n",
      "Epoch 91, CIFAR-10 Batch 4:  Loss: 0.579, Accuracy: 87.5%\n",
      "Epoch 91, CIFAR-10 Batch 5:  Loss: 0.582, Accuracy: 90.0%\n",
      "Epoch 92, CIFAR-10 Batch 1:  Loss: 0.706, Accuracy: 77.5%\n",
      "Epoch 92, CIFAR-10 Batch 2:  Loss: 0.603, Accuracy: 90.0%\n",
      "Epoch 92, CIFAR-10 Batch 3:  Loss: 0.519, Accuracy: 92.5%\n",
      "Epoch 92, CIFAR-10 Batch 4:  Loss: 0.577, Accuracy: 82.5%\n",
      "Epoch 92, CIFAR-10 Batch 5:  Loss: 0.573, Accuracy: 90.0%\n",
      "Epoch 93, CIFAR-10 Batch 1:  Loss: 0.624, Accuracy: 80.0%\n",
      "Epoch 93, CIFAR-10 Batch 2:  Loss: 0.588, Accuracy: 90.0%\n",
      "Epoch 93, CIFAR-10 Batch 3:  Loss: 0.617, Accuracy: 90.0%\n",
      "Epoch 93, CIFAR-10 Batch 4:  Loss: 0.561, Accuracy: 85.0%\n",
      "Epoch 93, CIFAR-10 Batch 5:  Loss: 0.551, Accuracy: 90.0%\n",
      "Epoch 94, CIFAR-10 Batch 1:  Loss: 0.619, Accuracy: 82.5%\n",
      "Epoch 94, CIFAR-10 Batch 2:  Loss: 0.575, Accuracy: 85.0%\n",
      "Epoch 94, CIFAR-10 Batch 3:  Loss: 0.525, Accuracy: 92.5%\n",
      "Epoch 94, CIFAR-10 Batch 4:  Loss: 0.635, Accuracy: 80.0%\n",
      "Epoch 94, CIFAR-10 Batch 5:  Loss: 0.582, Accuracy: 87.5%\n",
      "Epoch 95, CIFAR-10 Batch 1:  Loss: 0.644, Accuracy: 80.0%\n",
      "Epoch 95, CIFAR-10 Batch 2:  Loss: 0.525, Accuracy: 85.0%\n",
      "Epoch 95, CIFAR-10 Batch 3:  Loss: 0.475, Accuracy: 95.0%\n",
      "Epoch 95, CIFAR-10 Batch 4:  Loss: 0.565, Accuracy: 82.5%\n",
      "Epoch 95, CIFAR-10 Batch 5:  Loss: 0.586, Accuracy: 90.0%\n",
      "Epoch 96, CIFAR-10 Batch 1:  Loss: 0.605, Accuracy: 77.5%\n",
      "Epoch 96, CIFAR-10 Batch 2:  Loss: 0.583, Accuracy: 85.0%\n",
      "Epoch 96, CIFAR-10 Batch 3:  Loss: 0.47, Accuracy: 97.5%\n",
      "Epoch 96, CIFAR-10 Batch 4:  Loss: 0.521, Accuracy: 85.0%\n",
      "Epoch 96, CIFAR-10 Batch 5:  Loss: 0.563, Accuracy: 90.0%\n",
      "Epoch 97, CIFAR-10 Batch 1:  Loss: 0.598, Accuracy: 82.5%\n",
      "Epoch 97, CIFAR-10 Batch 2:  Loss: 0.557, Accuracy: 87.5%\n",
      "Epoch 97, CIFAR-10 Batch 3:  Loss: 0.476, Accuracy: 97.5%\n",
      "Epoch 97, CIFAR-10 Batch 4:  Loss: 0.512, Accuracy: 85.0%\n",
      "Epoch 97, CIFAR-10 Batch 5:  Loss: 0.526, Accuracy: 97.5%\n",
      "Epoch 98, CIFAR-10 Batch 1:  Loss: 0.589, Accuracy: 82.5%\n",
      "Epoch 98, CIFAR-10 Batch 2:  Loss: 0.512, Accuracy: 85.0%\n",
      "Epoch 98, CIFAR-10 Batch 3:  Loss: 0.468, Accuracy: 97.5%\n",
      "Epoch 98, CIFAR-10 Batch 4:  Loss: 0.524, Accuracy: 87.5%\n",
      "Epoch 98, CIFAR-10 Batch 5:  Loss: 0.539, Accuracy: 92.5%\n",
      "Epoch 99, CIFAR-10 Batch 1:  Loss: 0.64, Accuracy: 82.5%\n",
      "Epoch 99, CIFAR-10 Batch 2:  Loss: 0.54, Accuracy: 82.5%\n",
      "Epoch 99, CIFAR-10 Batch 3:  Loss: 0.489, Accuracy: 95.0%\n",
      "Epoch 99, CIFAR-10 Batch 4:  Loss: 0.547, Accuracy: 87.5%\n",
      "Epoch 99, CIFAR-10 Batch 5:  Loss: 0.529, Accuracy: 90.0%\n",
      "Epoch 100, CIFAR-10 Batch 1:  Loss: 0.623, Accuracy: 82.5%\n",
      "Epoch 100, CIFAR-10 Batch 2:  Loss: 0.543, Accuracy: 85.0%\n",
      "Epoch 100, CIFAR-10 Batch 3:  Loss: 0.485, Accuracy: 90.0%\n",
      "Epoch 100, CIFAR-10 Batch 4:  Loss: 0.508, Accuracy: 87.5%\n",
      "Epoch 100, CIFAR-10 Batch 5:  Loss: 0.549, Accuracy: 92.5%\n"
     ]
    }
   ],
   "source": [
    "\"\"\"\n",
    "DON'T MODIFY ANYTHING IN THIS CELL\n",
    "\"\"\"\n",
    "save_model_path = './image_classification'\n",
    "\n",
    "print('Training...')\n",
    "with tf.Session() as sess:\n",
    "    # Initializing the variables\n",
    "    sess.run(tf.global_variables_initializer())\n",
    "    \n",
    "    # Training cycle\n",
    "    for epoch in range(epochs):\n",
    "        # Loop over all batches\n",
    "        n_batches = 5\n",
    "        for batch_i in range(1, n_batches + 1):\n",
    "            for batch_features, batch_labels in helper.load_preprocess_training_batch(batch_i, batch_size):\n",
    "                train_neural_network(sess, optimizer, keep_probability, batch_features, batch_labels)\n",
    "            print('Epoch {:>2}, CIFAR-10 Batch {}:  '.format(epoch + 1, batch_i), end='')\n",
    "            print_stats(sess, batch_features, batch_labels, cost, accuracy)\n",
    "            \n",
    "    # Save Model\n",
    "    saver = tf.train.Saver()\n",
    "    save_path = saver.save(sess, save_model_path)"
   ]
  },
  {
   "cell_type": "markdown",
   "metadata": {
    "deletable": true,
    "editable": true
   },
   "source": [
    "# Checkpoint\n",
    "The model has been saved to disk.\n",
    "## Test Model\n",
    "Test your model against the test dataset.  This will be your final accuracy. You should have an accuracy greater than 50%. If you don't, keep tweaking the model architecture and parameters."
   ]
  },
  {
   "cell_type": "code",
   "execution_count": 26,
   "metadata": {
    "collapsed": false,
    "deletable": true,
    "editable": true
   },
   "outputs": [
    {
     "name": "stdout",
     "output_type": "stream",
     "text": [
      "Testing Accuracy: 0.523828125\n",
      "\n"
     ]
    },
    {
     "data": {
      "image/png": "[encoded data removed]",
      "text/plain": [
       "<matplotlib.figure.Figure at 0x7f0cf80586d8>"
      ]
     },
     "metadata": {
      "image/png": {
       "height": 319,
       "width": 355
      }
     },
     "output_type": "display_data"
    }
   ],
   "source": [
    "\"\"\"\n",
    "DON'T MODIFY ANYTHING IN THIS CELL\n",
    "\"\"\"\n",
    "%matplotlib inline\n",
    "%config InlineBackend.figure_format = 'retina'\n",
    "\n",
    "import tensorflow as tf\n",
    "import pickle\n",
    "import helper\n",
    "import random\n",
    "\n",
    "# Set batch size if not already set\n",
    "try:\n",
    "    if batch_size:\n",
    "        pass\n",
    "except NameError:\n",
    "    batch_size = 64\n",
    "\n",
    "save_model_path = './image_classification'\n",
    "n_samples = 4\n",
    "top_n_predictions = 3\n",
    "\n",
    "def test_model():\n",
    "    \"\"\"\n",
    "    Test the saved model against the test dataset\n",
    "    \"\"\"\n",
    "\n",
    "    test_features, test_labels = pickle.load(open('preprocess_training.p', mode='rb'))\n",
    "    loaded_graph = tf.Graph()\n",
    "\n",
    "    with tf.Session(graph=loaded_graph) as sess:\n",
    "        # Load model\n",
    "        loader = tf.train.import_meta_graph(save_model_path + '.meta')\n",
    "        loader.restore(sess, save_model_path)\n",
    "\n",
    "        # Get Tensors from loaded model\n",
    "        loaded_x = loaded_graph.get_tensor_by_name('x:0')\n",
    "        loaded_y = loaded_graph.get_tensor_by_name('y:0')\n",
    "        loaded_keep_prob = loaded_graph.get_tensor_by_name('keep_prob:0')\n",
    "        loaded_logits = loaded_graph.get_tensor_by_name('logits:0')\n",
    "        loaded_acc = loaded_graph.get_tensor_by_name('accuracy:0')\n",
    "        \n",
    "        # Get accuracy in batches for memory limitations\n",
    "        test_batch_acc_total = 0\n",
    "        test_batch_count = 0\n",
    "        \n",
    "        for train_feature_batch, train_label_batch in helper.batch_features_labels(test_features, test_labels, batch_size):\n",
    "            test_batch_acc_total += sess.run(\n",
    "                loaded_acc,\n",
    "                feed_dict={loaded_x: train_feature_batch, loaded_y: train_label_batch, loaded_keep_prob: 1.0})\n",
    "            test_batch_count += 1\n",
    "\n",
    "        print('Testing Accuracy: {}\\n'.format(test_batch_acc_total/test_batch_count))\n",
    "\n",
    "        # Print Random Samples\n",
    "        random_test_features, random_test_labels = tuple(zip(*random.sample(list(zip(test_features, test_labels)), n_samples)))\n",
    "        random_test_predictions = sess.run(\n",
    "            tf.nn.top_k(tf.nn.softmax(loaded_logits), top_n_predictions),\n",
    "            feed_dict={loaded_x: random_test_features, loaded_y: random_test_labels, loaded_keep_prob: 1.0})\n",
    "        helper.display_image_predictions(random_test_features, random_test_labels, random_test_predictions)\n",
    "\n",
    "\n",
    "test_model()"
   ]
  },
  {
   "cell_type": "markdown",
   "metadata": {
    "deletable": true,
    "editable": true
   },
   "source": [
    "## Why 50-70% Accuracy?\n",
    "You might be wondering why you can't get an accuracy any higher. First things first, 50% isn't bad for a simple CNN.  Pure guessing would get you 10% accuracy. However, you might notice people are getting scores [well above 70%](http://rodrigob.github.io/are_we_there_yet/build/classification_datasets_results.html#43494641522d3130).  That's because we haven't taught you all there is to know about neural networks. We still need to cover a few more techniques.\n",
    "## Submitting This Project\n",
    "When submitting this project, make sure to run all the cells before saving the notebook.  Save the notebook file as \"dlnd_image_classification.ipynb\" and save it as a HTML file under \"File\" -> \"Download as\".  Include the \"helper.py\" and \"problem_unittests.py\" files in your submission."
   ]
  }
 ],
 "metadata": {
  "kernelspec": {
   "display_name": "Python 3",
   "language": "python",
   "name": "python3"
  },
  "language_info": {
   "codemirror_mode": {
    "name": "ipython",
    "version": 3
   },
   "file_extension": ".py",
   "mimetype": "text/x-python",
   "name": "python",
   "nbconvert_exporter": "python",
   "pygments_lexer": "ipython3",
   "version": "3.5.2"
  },
  "widgets": {
   "state": {},
   "version": "1.1.2"
  }
 },
 "nbformat": 4,
 "nbformat_minor": 0
}
